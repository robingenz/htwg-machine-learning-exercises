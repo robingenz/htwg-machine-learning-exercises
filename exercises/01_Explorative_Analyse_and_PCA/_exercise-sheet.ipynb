{
 "cells": [
  {
   "cell_type": "markdown",
   "id": "89f35b55",
   "metadata": {},
   "source": [
    "# Arbeitsblatt 1: Explorative Analyse und Hauptkomponentenanalyse\n",
    "\n",
    "## 1. Explorative Analyse des Datensatzes ''Boston Housing''\n",
    "\n",
    "*Boston Housing* ist ein berühmter Datensatz zur Evaluierung von Regressionsalgorithmen. Er enthält 506 Einträge mit jeweils 13 Variablen. Ziel ist es, den Hauspreis (`tgt`) aus den anderen Variablen vorherzusagen. Der Download dieses Datensatzes in einen Pandas-DataFrame wird folgendermaßen durchgeführt:"
   ]
  },
  {
   "cell_type": "code",
   "execution_count": null,
   "id": "a9fe9d40",
   "metadata": {},
   "outputs": [],
   "source": [
    "import matplotlib.pyplot as plt\n",
    "import numpy as np\n",
    "import pandas as pd\n",
    "%matplotlib inline"
   ]
  },
  {
   "cell_type": "code",
   "execution_count": null,
   "id": "efbfe6ec",
   "metadata": {},
   "outputs": [],
   "source": [
    "url = 'https://archive.ics.uci.edu/ml/machine-learning-databases/housing/housing.data'\n",
    "cols = ['CRIM','ZN','INDUS','CHAS','NOX','RM','AGE','DIS','RAD','TAX','PTRATIO','B',\n",
    "        'LSTAT','TGT']\n",
    "boston = pd.read_csv(url, sep=' ', skipinitialspace=True, header=None, names=cols, \n",
    "                     index_col=False)"
   ]
  },
  {
   "cell_type": "markdown",
   "id": "30546e2f",
   "metadata": {},
   "source": [
    "Wichtig für diese Übung ist eine grundlegende Vertrautheit mit den Python-Paketen Numpy und Pandas. Die Abgabe der Aufgabe erfolgt als fertiges IPython-Notebook mit Kommentaren in Markdown.\n",
    "\n",
    "Aufgaben:"
   ]
  },
  {
   "cell_type": "markdown",
   "id": "dea5563f",
   "metadata": {},
   "source": [
    "a) Führen Sie für diesen Datensatz eine explorative Analyse wie in der Vorlesung gezeigt mithilfe eines IPython-Notebooks und den Paketen Pandas und Numpy durch. "
   ]
  },
  {
   "cell_type": "markdown",
   "id": "c80f1524",
   "metadata": {},
   "source": [
    "b) Beantworten Sie anhand der Darstellung der Streumatrix folgende Fragen: Welche der Variablen sind kategorisch? Welche der Variablen eignen sich gut zur Vorhersage des Hauspreises und warum? Welche dieser Variablen sind miteinander korreliert? Welche sind daher Kandidaten, die man evtl. weglassen könnte? (Beantwortung bitte als Markup in Notebook eintragen)"
   ]
  },
  {
   "cell_type": "markdown",
   "id": "1dbd83b7",
   "metadata": {},
   "source": [
    "c) Die Dokumentation der eingesetzten Systemkonfiguration und Paketversionen erfolgt durch das Skript `version_information` von R. H. Johanson. Installation über"
   ]
  },
  {
   "cell_type": "code",
   "execution_count": null,
   "id": "2c6f8648",
   "metadata": {},
   "outputs": [],
   "source": [
    "pip install version-information"
   ]
  },
  {
   "cell_type": "markdown",
   "id": "fa39c877",
   "metadata": {},
   "source": [
    "Im Notebook-Header muss das Paket importiert werden über"
   ]
  },
  {
   "cell_type": "code",
   "execution_count": 6,
   "id": "ed840117",
   "metadata": {},
   "outputs": [],
   "source": [
    "%load_ext version_information"
   ]
  },
  {
   "cell_type": "markdown",
   "id": "9830f458",
   "metadata": {},
   "source": [
    "Danach kann die Information über die Systemkonfiguration dargestellt werden durch"
   ]
  },
  {
   "cell_type": "code",
   "execution_count": 7,
   "id": "a3da8864",
   "metadata": {},
   "outputs": [
    {
     "data": {
      "application/json": {
       "Software versions": [
        {
         "module": "Python",
         "version": "3.7.10 64bit [Clang 10.0.0 ]"
        },
        {
         "module": "IPython",
         "version": "7.18.1"
        },
        {
         "module": "OS",
         "version": "Darwin 20.6.0 x86_64 i386 64bit"
        }
       ]
      },
      "text/html": [
       "<table><tr><th>Software</th><th>Version</th></tr><tr><td>Python</td><td>3.7.10 64bit [Clang 10.0.0 ]</td></tr><tr><td>IPython</td><td>7.18.1</td></tr><tr><td>OS</td><td>Darwin 20.6.0 x86\\_64 i386 64bit</td></tr><tr><td colspan='2'>Tue Oct 05 12:44:52 2021 CEST</td></tr></table>"
      ],
      "text/latex": [
       "\\begin{tabular}{|l|l|}\\hline\n",
       "{\\bf Software} & {\\bf Version} \\\\ \\hline\\hline\n",
       "Python & 3.7.10 64bit [Clang 10.0.0 ] \\\\ \\hline\n",
       "IPython & 7.18.1 \\\\ \\hline\n",
       "OS & Darwin 20.6.0 x86\\_64 i386 64bit \\\\ \\hline\n",
       "\\hline \\multicolumn{2}{|l|}{Tue Oct 05 12:44:52 2021 CEST} \\\\ \\hline\n",
       "\\end{tabular}\n"
      ],
      "text/plain": [
       "Software versions\n",
       "Python 3.7.10 64bit [Clang 10.0.0 ]\n",
       "IPython 7.18.1\n",
       "OS Darwin 20.6.0 x86_64 i386 64bit\n",
       "Tue Oct 05 12:44:52 2021 CEST"
      ]
     },
     "execution_count": 7,
     "metadata": {},
     "output_type": "execute_result"
    }
   ],
   "source": [
    "%version_information"
   ]
  },
  {
   "cell_type": "markdown",
   "id": "e983e99f",
   "metadata": {},
   "source": [
    "Sollen zusätzlich Versionsinformationen über die eingesetzten Pakete dargestellt werden, verwendet man (hier z.B. Numpy und Pandas)"
   ]
  },
  {
   "cell_type": "code",
   "execution_count": 8,
   "id": "4ad71ed1",
   "metadata": {},
   "outputs": [
    {
     "data": {
      "application/json": {
       "Software versions": [
        {
         "module": "Python",
         "version": "3.7.10 64bit [Clang 10.0.0 ]"
        },
        {
         "module": "IPython",
         "version": "7.18.1"
        },
        {
         "module": "OS",
         "version": "Darwin 20.6.0 x86_64 i386 64bit"
        },
        {
         "module": "numpy",
         "version": "1.20.2"
        },
        {
         "module": "pandas",
         "version": "1.2.4"
        }
       ]
      },
      "text/html": [
       "<table><tr><th>Software</th><th>Version</th></tr><tr><td>Python</td><td>3.7.10 64bit [Clang 10.0.0 ]</td></tr><tr><td>IPython</td><td>7.18.1</td></tr><tr><td>OS</td><td>Darwin 20.6.0 x86\\_64 i386 64bit</td></tr><tr><td>numpy</td><td>1.20.2</td></tr><tr><td>pandas</td><td>1.2.4</td></tr><tr><td colspan='2'>Tue Oct 05 12:47:10 2021 CEST</td></tr></table>"
      ],
      "text/latex": [
       "\\begin{tabular}{|l|l|}\\hline\n",
       "{\\bf Software} & {\\bf Version} \\\\ \\hline\\hline\n",
       "Python & 3.7.10 64bit [Clang 10.0.0 ] \\\\ \\hline\n",
       "IPython & 7.18.1 \\\\ \\hline\n",
       "OS & Darwin 20.6.0 x86\\_64 i386 64bit \\\\ \\hline\n",
       "numpy & 1.20.2 \\\\ \\hline\n",
       "pandas & 1.2.4 \\\\ \\hline\n",
       "\\hline \\multicolumn{2}{|l|}{Tue Oct 05 12:47:10 2021 CEST} \\\\ \\hline\n",
       "\\end{tabular}\n"
      ],
      "text/plain": [
       "Software versions\n",
       "Python 3.7.10 64bit [Clang 10.0.0 ]\n",
       "IPython 7.18.1\n",
       "OS Darwin 20.6.0 x86_64 i386 64bit\n",
       "numpy 1.20.2\n",
       "pandas 1.2.4\n",
       "Tue Oct 05 12:47:10 2021 CEST"
      ]
     },
     "execution_count": 8,
     "metadata": {},
     "output_type": "execute_result"
    }
   ],
   "source": [
    "%version_information numpy, pandas"
   ]
  },
  {
   "cell_type": "markdown",
   "id": "ad7c89db",
   "metadata": {},
   "source": [
    "Diese Zeilen sollten immer am Ende des Notebooks aufgerufen werden, um ein Mindestmaß an Reproduzierbarkeit sicherzustellen."
   ]
  },
  {
   "cell_type": "markdown",
   "id": "8e863242",
   "metadata": {},
   "source": [
    "## 2. Datenvorverarbeitung mit Pandas: Food Nutrient Database\n",
    "\n",
    "Diese Aufgabe befasst sich mit einer deutlich umfangreicheren Datenbank des *U.S. Department of Agriculture*, aufbereitet im Format JSON von A. Williams, zum Thema Nährstoffge- halt von Nahrungsmitteln. Sie enthält 6636 Einträge für Nahrungsmittel, alle in Form von JSON-Records, wie z.B.:\n",
    "\n",
    "```\n",
    "{\n",
    "    \"id\": 21441,\n",
    "    \"description\": \"KENTUCKY FRIED CHICKEN, Fried Chicken, EXTRA CRISPY, Wing,\n",
    "        meat and skin with breading\", \"tags\": [\"KFC\"],\n",
    "    \"manufacturer\": \"Kentucky Fried Chicken\", \"group\": \"Fast Foods\",\n",
    "    \"portions\": [ \n",
    "        {\n",
    "            \"amount\": 1,\n",
    "            \"unit\": \"wing , with skin\",\n",
    "            \"grams\": 68.0 \n",
    "        },\n",
    "        ...\n",
    "    ], \n",
    "    \"nutrients\": [\n",
    "        {\n",
    "            \"value\": 20.8,\n",
    "            \"units\": \"g\", \n",
    "            \"description\": \"Protein\",\n",
    "            \"group\": \"Composition\" \n",
    "        },\n",
    "        ... \n",
    "    ]\n",
    "}\n",
    "```\n",
    "\n",
    "Ziel der Analyse in dieser Übung ist es, eine explorative Analyse des Gehalts des Spurenelementes Zink in den verschiedenen Nahrungsmitteln zu durchzuführen. Notwendig dafür sind etwas aufwändigere, aber für die Datenanlyse typische Manipulationen mit Pandas sowie der\n",
    "Einsatz zusätzlicher Python-Standardbibliotheken zum Download und der Verarbeitung von Zip- und JSON-Dateien.\n",
    "\n",
    "Aufgaben:\n"
   ]
  },
  {
   "cell_type": "markdown",
   "id": "49f56ba8",
   "metadata": {},
   "source": [
    "a) Laden Sie die Datenbank als zip-File aus Moodle herunter und lesen Sie dieses File direkt in ein neues Notebook ein. Die bisher verwendete Pandas-Methode `read_csv()` funktioniert für JSON-Files leider nicht. Das heruntergeladene File wird stattdessen mithilfe des Py- thonmoduls `zipfile` entpackt und dem Python-Befehl `open()` eingelesen. Die Umwandlung des JSON-Formates in ein geeignetes Python-Format erfolgt mit einem weiteren Modul der Python-Standardlibrary, `json`, hier mithilfe der Funktion `json.load()`. Lesen Sie dazu die zugehörigen, auf dem Web bzw. Stackoverflow verfügbaren Anleitungen."
   ]
  },
  {
   "cell_type": "markdown",
   "id": "e24bee2f",
   "metadata": {},
   "source": [
    "b) Die Datenbank steht nun in Form einer Liste aus 6636 Python-Dictionaries zu Verfügung. Jedes Dictionary enthält Angaben zu einem Nahrungsmittel. Greifen Sie sich ein beliebiges Nahrungsmittel heraus und lassen sich die Namen der Einträge mit der Methode `dict.keys()` anzeigen. Einer der Einträge enthält die enthaltenen Nährstoffe (`nutrients`), ebenfalls als Dictionary. Lassen Sie sich wiederum einen beliebigen Eintrag der Nährstoffliste anzeigen. Es sollte auffallen, dass manche Feldnamen doppelt vorkommen.\n",
    "\n",
    "Teile dieser hierarchischen Struktur sollen nun in eine einheitliche Tabelle umgewandelt werden, um eine explorative Analyse durchführen zu können.\n",
    "\n",
    "Vorgehensweise:\n",
    "\n",
    "* Kopieren Sie zunächst die Felder `description`,`group`,`id`,`manufacturer` in einen eigenen DataFrame `info`, sowie alle Nährstofflisten in ein Array von DataFrames, wobei Sie an jeden DataFrame die entsprechende ID des Nahrungsmittels als eigene Spalte anhängen.\n",
    "* Dieses Array wird mithilfe der Funktion `pandas.concat()` zu einem großen DataFrame nutrients (389355 Einträge) vereinigt.\n",
    "* Entfernen Sie alle Duplikate aus diesem DataFrame.\n",
    "* Bevor beide DataFrames vereinigt werden können, gibt es noch ein Problem: beide enthalten Felder mit dem Namen `description` und `group` (s.o.). Benennen Sie diese daher mithilfe von DataFrame.rename() in eindeutige Namen um.\n",
    "* Vereinigen Sie beide DataFrames mit `pandas.merge(nutrients, info, on=’id’, how=’outer’)` anhand der Nahrungsmittel-ID.\n",
    "\n",
    "Überprüfen Sie das Ergebnis jeder Manipulation mit `DataFrame.head()``."
   ]
  },
  {
   "cell_type": "markdown",
   "id": "907279ad",
   "metadata": {},
   "source": [
    "c) Nun sind die Daten bereit für die Untersuchung auf das Spurenelement Zink (Feldname: `Zinc, Zn`). Lesen Sie dazu alle Tabelleneinträge mithilfe einer geeigneten Indizierung in einen DataFrame aus, der nur Einträge zum Nährstoff Zink enthält. Daraus wählen Sie wiederum die Spalte mit dem Zinkgehalt in mg (`value`) aus und stellen dafür ein Histogramm und eine Liste deskriptiver Statistiken dar. Finden Sie in Ihrer Tabelle Edamer (`Cheese, edam`). Hat Edamer einen überdurchschnittlichen Zinkgehalt? Haben mehr als 75% aller Nahrungsmittel einen kleineren Zinkgehalt? Welches Nahrungsmittel hat den maximalen Zinkgehalt?"
   ]
  },
  {
   "cell_type": "markdown",
   "id": "e9ce2f6a",
   "metadata": {},
   "source": [
    "## 3. Implementierung der Hauptkomponentenanalyse\n",
    "\n",
    "Wir beginnen zunächst mit einem schon bekannten Datensatz *Boston Housing*. Zur praktischen Berechnung der Hauptkomponentenanalyse gehen Sie folgt vor:\n",
    "\n",
    "1. Gegeben eine Menge von $n$ $d$-dimensionalen Datenpunkten $\\mathbf{x}_i$, berechnen Sie zuerst deren Mittelwert $\\boldsymbol{\\mu}_x = \\frac{1}{n} \\sum_{i=1}^n \\mathbf{x}_i$ für jedes einzelne Merkmal und ziehen ihn von allen Datenpunkten ab (Zentrierung).\n",
    "2. Normieren Sie dann alle Merkmale so, dass sie eine Varianz von 1 haben. Dieser Schritt ist optional, aber meist vorteilhaft.\n",
    "3. Kopieren Sie alle $\\mathbf{x}_i$ als Reihen in eine $n \\times d$-Matrix $X$, die sog. Daten- oder Designmatrix.\n",
    "4. Zur Lösung des Eigenwertproblens berechnen Sie die Singulärwertzerlegung von $X$ (z.B. mit `numpy.linalg.svd()`): $$ X = UDV^\\top $$\n",
    "Wer nicht weiß, was eine Singuärwertzerlegung ist oder macht, der lese bitte in den entsprechenden Wikipedia-Einträgen nach. Im Prinzip könnte man auch direkt die Eigenwerte der Kovarianzmatrix (s. Folie 12) berechnen (z.B. mit `numpy.linalg.eig()`), diese Methode ist aber meist aufwändiger und numerisch weniger stabil.\n",
    "5. Die ersten $r$ Basisvektoren $\\mathbf{q}_i$  (d.h die ersten $r$ Hauptkomponenten) sind die ersten $r$ Spalten der orthogonalen $d \\times d$-Matrix $V$.\n",
    "6. Die Projektionen $a_i$ der Daten $\\mathbf{x}_i$ auf die ersten $r$ Basisvektoren $\\mathbf{q}_i$ (d.h die neuen Variablenwerte im neuen Koordinatensystem) sind die die ersten $r$ Spalten der $n \\times d$-Matrix $UD$.\n",
    "7. Die Standardabweichungen entlang der Hauptkomponenten $\\mathbf{q}_i$ sind die Diagonalelemente der Diagonalmatrix $D$ geteilt durch $\\sqrt{n - 1}$.\n",
    "\n",
    "Aufgaben:"
   ]
  },
  {
   "cell_type": "markdown",
   "id": "3e19cc61",
   "metadata": {},
   "source": [
    "a) Implementieren Sie ein Python-Modul, das eine Funktion zur Hauptkomponentenanalyse nach obigem Schema zur Verfügung stellt."
   ]
  },
  {
   "cell_type": "markdown",
   "id": "24f57c01",
   "metadata": {},
   "source": [
    "b) Testen Sie Ihr Modul innerhalb eines IPython-Notebooks am Datensatz *Boston Housing*. Lassen Sie dabei die Variable `TGT` weg. Stellen Sie Ihre Ergebnisse in einer Tabelle mit den Eigenwerten der Kovarianzmatrix (Achtung: die Diagonalelemente von $D$ müssen dafür quadriert und durch n − 1 geteilt werden. Warum?), dem Anteil der zugehörigen Hauptkomponente an an der Gesamtvarianz (“erklärte Varianz”) und der kumulativen erklärten Varianz dar, d.h. welchen Varianzanteil die ersten $n$ Komponenten zusammen erklären. Wieviele Dimensionen können Sie weglassen, wenn Sie 10%, 5% und 1% Fehler bei der Dimensionsreduktion zulassen?"
   ]
  },
  {
   "cell_type": "markdown",
   "id": "c4e92aa8",
   "metadata": {},
   "source": [
    "c) Berechnen Sie die Matrix der Korrelationskoeffizienten für die transformierten Variablen und interpretieren Sie das Ergebnis."
   ]
  },
  {
   "cell_type": "markdown",
   "id": "886f4b48",
   "metadata": {},
   "source": [
    "d) Berechnen Sie den Korrelationskoeffizienten der Projektionen auf die ersten drei Hauptkomponenten mit den ursprünglichen Variablen. Interpretieren Sie Ihr Ergebnis."
   ]
  },
  {
   "cell_type": "markdown",
   "id": "267adfdb",
   "metadata": {},
   "source": [
    "e. Stellen Sie die ersten beiden der neuen Variablen als Scatterplot dar (am besten in Pandas-Dataframe importieren). Plotten Sie dabei alle Datenpunkte mit einem Hauspreis oberhalb des Medians aller Hauspreise in einer anderen Farbe als die Datenpunkte unterhalb. Eignen sich die beiden neuen Variablen zur Vorhersage des Hauspreises?"
   ]
  },
  {
   "cell_type": "code",
   "execution_count": null,
   "id": "e7a42406",
   "metadata": {},
   "outputs": [],
   "source": []
  }
 ],
 "metadata": {
  "kernelspec": {
   "display_name": "Python 3.10.4 64-bit",
   "language": "python",
   "name": "python3"
  },
  "language_info": {
   "codemirror_mode": {
    "name": "ipython",
    "version": 3
   },
   "file_extension": ".py",
   "mimetype": "text/x-python",
   "name": "python",
   "nbconvert_exporter": "python",
   "pygments_lexer": "ipython3",
   "version": "3.10.4"
  },
  "vscode": {
   "interpreter": {
    "hash": "949777d72b0d2535278d3dc13498b2535136f6dfe0678499012e853ee9abcab1"
   }
  }
 },
 "nbformat": 4,
 "nbformat_minor": 5
}
