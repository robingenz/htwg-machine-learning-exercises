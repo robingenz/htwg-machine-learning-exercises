{
  "cells": [
    {
      "cell_type": "markdown",
      "metadata": {
        "colab_type": "text",
        "id": "view-in-github"
      },
      "source": [
        "<a href=\"https://colab.research.google.com/github/robingenz/htwg-machine-learning-exercises/blob/main/exercises/03_SVMs_Random_Forests_Boosting/01_svm.ipynb\" target=\"_parent\"><img src=\"https://colab.research.google.com/assets/colab-badge.svg\" alt=\"Open In Colab\"/></a>"
      ]
    },
    {
      "cell_type": "markdown",
      "metadata": {
        "id": "UAjCEVrKwLuv"
      },
      "source": [
        "# Klassifikation mit SVMs\n",
        "\n",
        "## Setup\n",
        "\n",
        "### Einbinden von Paketen"
      ]
    },
    {
      "cell_type": "code",
      "execution_count": 2,
      "metadata": {
        "colab": {
          "base_uri": "https://localhost:8080/",
          "height": 34
        },
        "id": "7rsOwie3wLuv",
        "outputId": "34399a0c-1e9f-4916-9f13-0423853143b7"
      },
      "outputs": [
        {
          "data": {
            "text/plain": [
              "('1.23.4', '1.5.0', '1.1.3')"
            ]
          },
          "execution_count": 2,
          "metadata": {},
          "output_type": "execute_result"
        }
      ],
      "source": [
        "import matplotlib.pyplot as plt\n",
        "import numpy as np\n",
        "import pandas as pd\n",
        "import sklearn\n",
        "import math\n",
        "%matplotlib inline\n",
        "\n",
        "np.__version__, pd.__version__, sklearn.__version__"
      ]
    },
    {
      "cell_type": "code",
      "execution_count": 3,
      "metadata": {},
      "outputs": [
        {
          "data": {
            "application/json": {
              "Software versions": [
                {
                  "module": "Python",
                  "version": "3.10.8 64bit [GCC 10.2.1 20210110]"
                },
                {
                  "module": "IPython",
                  "version": "8.5.0"
                },
                {
                  "module": "OS",
                  "version": "Linux 5.10.16.3 microsoft standard WSL2 x86_64 with glibc2.31"
                }
              ]
            },
            "text/html": [
              "<table><tr><th>Software</th><th>Version</th></tr><tr><td>Python</td><td>3.10.8 64bit [GCC 10.2.1 20210110]</td></tr><tr><td>IPython</td><td>8.5.0</td></tr><tr><td>OS</td><td>Linux 5.10.16.3 microsoft standard WSL2 x86\\_64 with glibc2.31</td></tr><tr><td colspan='2'>Fri Nov 18 21:02:33 2022 UTC</td></tr></table>"
            ],
            "text/latex": [
              "\\begin{tabular}{|l|l|}\\hline\n",
              "{\\bf Software} & {\\bf Version} \\\\ \\hline\\hline\n",
              "Python & 3.10.8 64bit [GCC 10.2.1 20210110] \\\\ \\hline\n",
              "IPython & 8.5.0 \\\\ \\hline\n",
              "OS & Linux 5.10.16.3 microsoft standard WSL2 x86\\_64 with glibc2.31 \\\\ \\hline\n",
              "\\hline \\multicolumn{2}{|l|}{Fri Nov 18 21:02:33 2022 UTC} \\\\ \\hline\n",
              "\\end{tabular}\n"
            ],
            "text/plain": [
              "Software versions\n",
              "Python 3.10.8 64bit [GCC 10.2.1 20210110]\n",
              "IPython 8.5.0\n",
              "OS Linux 5.10.16.3 microsoft standard WSL2 x86_64 with glibc2.31\n",
              "Fri Nov 18 21:02:33 2022 UTC"
            ]
          },
          "execution_count": 3,
          "metadata": {},
          "output_type": "execute_result"
        }
      ],
      "source": [
        "%load_ext version_information\n",
        "%version_information"
      ]
    },
    {
      "cell_type": "markdown",
      "metadata": {
        "id": "ehL2SIUWwLuz"
      },
      "source": [
        "### Einlesen der Daten"
      ]
    },
    {
      "cell_type": "code",
      "execution_count": 4,
      "metadata": {
        "colab": {
          "base_uri": "https://localhost:8080/",
          "height": 34
        },
        "id": "WI1UOTCOwLuz",
        "outputId": "866d20ae-a13e-401d-f752-b356166ca3eb"
      },
      "outputs": [
        {
          "data": {
            "text/plain": [
              "['Fri Nov 18 21:02:33 UTC 2022']"
            ]
          },
          "execution_count": 4,
          "metadata": {},
          "output_type": "execute_result"
        }
      ],
      "source": [
        "# The Fish Data Set\n",
        "# See example 2 from https://stats.idre.ucla.edu/r/dae/zip/ \n",
        "#\"nofish\",\"livebait\",\"camper\",\"persons\",\"child\",\"xb\",\"zg\",\"count\"\n",
        "import os\n",
        "from urllib.request import urlretrieve\n",
        "if not os.path.isfile('data/fishing.npz'):\n",
        "    print(\"Downloading...\")\n",
        "    urlretrieve('http://www-home.htwg-konstanz.de/~oduerr/data/fishing.npz', filename = 'data/fishing.npz')\n",
        "data = np.load('data/fishing.npz')\n",
        "dateDownloaded = !date #Calling Linux\n",
        "dateDownloaded"
      ]
    },
    {
      "cell_type": "markdown",
      "metadata": {},
      "source": [
        "## Aufgaben"
      ]
    },
    {
      "cell_type": "markdown",
      "metadata": {},
      "source": [
        "### Aufgabe a)"
      ]
    }
  ],
  "metadata": {
    "colab": {
      "include_colab_link": true,
      "name": "Explorative Analyse.ipynb",
      "provenance": []
    },
    "kernelspec": {
      "display_name": "Python 3.10.4 64-bit",
      "language": "python",
      "name": "python3"
    },
    "language_info": {
      "codemirror_mode": {
        "name": "ipython",
        "version": 3
      },
      "file_extension": ".py",
      "mimetype": "text/x-python",
      "name": "python",
      "nbconvert_exporter": "python",
      "pygments_lexer": "ipython3",
      "version": "3.10.8"
    },
    "vscode": {
      "interpreter": {
        "hash": "949777d72b0d2535278d3dc13498b2535136f6dfe0678499012e853ee9abcab1"
      }
    }
  },
  "nbformat": 4,
  "nbformat_minor": 0
}
