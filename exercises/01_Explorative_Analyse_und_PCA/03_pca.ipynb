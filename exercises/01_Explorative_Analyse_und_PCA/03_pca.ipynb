{
  "cells": [
    {
      "cell_type": "markdown",
      "metadata": {
        "colab_type": "text",
        "id": "view-in-github"
      },
      "source": [
        "<a href=\"https://colab.research.google.com/github/robingenz/htwg-machine-learning-exercises/blob/main/exercises/01_Explorative_Analyse_und_PCA/01-explorative-analyse.ipynb\" target=\"_parent\"><img src=\"https://colab.research.google.com/assets/colab-badge.svg\" alt=\"Open In Colab\"/></a>"
      ]
    },
    {
      "cell_type": "markdown",
      "metadata": {
        "id": "UAjCEVrKwLuv"
      },
      "source": [
        "# Implementierung der Hauptkomponentenanalyse\n",
        "\n",
        "## Setup\n",
        "\n",
        "### Einbinden von Paketen\n",
        "\n",
        "Häufig verwendete Pakete einbinden und Versionsinformationen ausgeben:"
      ]
    },
    {
      "cell_type": "code",
      "execution_count": 39,
      "metadata": {
        "colab": {
          "base_uri": "https://localhost:8080/",
          "height": 34
        },
        "id": "7rsOwie3wLuv",
        "outputId": "34399a0c-1e9f-4916-9f13-0423853143b7"
      },
      "outputs": [
        {
          "data": {
            "text/plain": [
              "('1.23.4', '1.5.0')"
            ]
          },
          "execution_count": 39,
          "metadata": {},
          "output_type": "execute_result"
        }
      ],
      "source": [
        "import numpy as np\n",
        "import pandas as pd\n",
        "%matplotlib inline\n",
        "\n",
        "np.__version__, pd.__version__, "
      ]
    },
    {
      "cell_type": "code",
      "execution_count": 40,
      "metadata": {},
      "outputs": [
        {
          "name": "stdout",
          "output_type": "stream",
          "text": [
            "The version_information extension is already loaded. To reload it, use:\n",
            "  %reload_ext version_information\n"
          ]
        },
        {
          "data": {
            "application/json": {
              "Software versions": [
                {
                  "module": "Python",
                  "version": "3.10.8 64bit [GCC 10.2.1 20210110]"
                },
                {
                  "module": "IPython",
                  "version": "8.5.0"
                },
                {
                  "module": "OS",
                  "version": "Linux 5.10.104 linuxkit aarch64 with glibc2.31"
                }
              ]
            },
            "text/html": [
              "<table><tr><th>Software</th><th>Version</th></tr><tr><td>Python</td><td>3.10.8 64bit [GCC 10.2.1 20210110]</td></tr><tr><td>IPython</td><td>8.5.0</td></tr><tr><td>OS</td><td>Linux 5.10.104 linuxkit aarch64 with glibc2.31</td></tr><tr><td colspan='2'>Fri Oct 28 17:27:14 2022 UTC</td></tr></table>"
            ],
            "text/latex": [
              "\\begin{tabular}{|l|l|}\\hline\n",
              "{\\bf Software} & {\\bf Version} \\\\ \\hline\\hline\n",
              "Python & 3.10.8 64bit [GCC 10.2.1 20210110] \\\\ \\hline\n",
              "IPython & 8.5.0 \\\\ \\hline\n",
              "OS & Linux 5.10.104 linuxkit aarch64 with glibc2.31 \\\\ \\hline\n",
              "\\hline \\multicolumn{2}{|l|}{Fri Oct 28 17:27:14 2022 UTC} \\\\ \\hline\n",
              "\\end{tabular}\n"
            ],
            "text/plain": [
              "Software versions\n",
              "Python 3.10.8 64bit [GCC 10.2.1 20210110]\n",
              "IPython 8.5.0\n",
              "OS Linux 5.10.104 linuxkit aarch64 with glibc2.31\n",
              "Fri Oct 28 17:27:14 2022 UTC"
            ]
          },
          "execution_count": 40,
          "metadata": {},
          "output_type": "execute_result"
        }
      ],
      "source": [
        "%load_ext version_information\n",
        "%version_information"
      ]
    },
    {
      "cell_type": "markdown",
      "metadata": {
        "id": "ehL2SIUWwLuz"
      },
      "source": [
        "### Einlesen der Daten"
      ]
    },
    {
      "cell_type": "markdown",
      "metadata": {},
      "source": [
        "Datensatz `housing.data` herunterladen:"
      ]
    },
    {
      "cell_type": "code",
      "execution_count": 41,
      "metadata": {},
      "outputs": [
        {
          "data": {
            "text/plain": [
              "['Fri Oct 28 17:27:15 UTC 2022']"
            ]
          },
          "execution_count": 41,
          "metadata": {},
          "output_type": "execute_result"
        }
      ],
      "source": [
        "url = 'https://archive.ics.uci.edu/ml/machine-learning-databases/housing/housing.data'\n",
        "cols = ['CRIM','ZN','INDUS','CHAS','NOX','RM','AGE','DIS','RAD','TAX','PTRATIO','B',\n",
        "        'LSTAT','TGT']\n",
        "dataFrame = pd.read_csv(url, sep=' ', skipinitialspace=True, header=None, names=cols, \n",
        "                     index_col=False)\n",
        "dateDownloaded = !date #Calling Linux\n",
        "dateDownloaded"
      ]
    },
    {
      "cell_type": "code",
      "execution_count": 42,
      "metadata": {},
      "outputs": [
        {
          "data": {
            "text/html": [
              "<div>\n",
              "<style scoped>\n",
              "    .dataframe tbody tr th:only-of-type {\n",
              "        vertical-align: middle;\n",
              "    }\n",
              "\n",
              "    .dataframe tbody tr th {\n",
              "        vertical-align: top;\n",
              "    }\n",
              "\n",
              "    .dataframe thead th {\n",
              "        text-align: right;\n",
              "    }\n",
              "</style>\n",
              "<table border=\"1\" class=\"dataframe\">\n",
              "  <thead>\n",
              "    <tr style=\"text-align: right;\">\n",
              "      <th></th>\n",
              "      <th>CRIM</th>\n",
              "      <th>ZN</th>\n",
              "      <th>INDUS</th>\n",
              "      <th>CHAS</th>\n",
              "      <th>NOX</th>\n",
              "      <th>RM</th>\n",
              "      <th>AGE</th>\n",
              "      <th>DIS</th>\n",
              "      <th>RAD</th>\n",
              "      <th>TAX</th>\n",
              "      <th>PTRATIO</th>\n",
              "      <th>B</th>\n",
              "      <th>LSTAT</th>\n",
              "      <th>TGT</th>\n",
              "    </tr>\n",
              "  </thead>\n",
              "  <tbody>\n",
              "    <tr>\n",
              "      <th>0</th>\n",
              "      <td>0.00632</td>\n",
              "      <td>18.0</td>\n",
              "      <td>2.31</td>\n",
              "      <td>0</td>\n",
              "      <td>0.538</td>\n",
              "      <td>6.575</td>\n",
              "      <td>65.2</td>\n",
              "      <td>4.0900</td>\n",
              "      <td>1</td>\n",
              "      <td>296.0</td>\n",
              "      <td>15.3</td>\n",
              "      <td>396.90</td>\n",
              "      <td>4.98</td>\n",
              "      <td>24.0</td>\n",
              "    </tr>\n",
              "    <tr>\n",
              "      <th>1</th>\n",
              "      <td>0.02731</td>\n",
              "      <td>0.0</td>\n",
              "      <td>7.07</td>\n",
              "      <td>0</td>\n",
              "      <td>0.469</td>\n",
              "      <td>6.421</td>\n",
              "      <td>78.9</td>\n",
              "      <td>4.9671</td>\n",
              "      <td>2</td>\n",
              "      <td>242.0</td>\n",
              "      <td>17.8</td>\n",
              "      <td>396.90</td>\n",
              "      <td>9.14</td>\n",
              "      <td>21.6</td>\n",
              "    </tr>\n",
              "    <tr>\n",
              "      <th>2</th>\n",
              "      <td>0.02729</td>\n",
              "      <td>0.0</td>\n",
              "      <td>7.07</td>\n",
              "      <td>0</td>\n",
              "      <td>0.469</td>\n",
              "      <td>7.185</td>\n",
              "      <td>61.1</td>\n",
              "      <td>4.9671</td>\n",
              "      <td>2</td>\n",
              "      <td>242.0</td>\n",
              "      <td>17.8</td>\n",
              "      <td>392.83</td>\n",
              "      <td>4.03</td>\n",
              "      <td>34.7</td>\n",
              "    </tr>\n",
              "    <tr>\n",
              "      <th>3</th>\n",
              "      <td>0.03237</td>\n",
              "      <td>0.0</td>\n",
              "      <td>2.18</td>\n",
              "      <td>0</td>\n",
              "      <td>0.458</td>\n",
              "      <td>6.998</td>\n",
              "      <td>45.8</td>\n",
              "      <td>6.0622</td>\n",
              "      <td>3</td>\n",
              "      <td>222.0</td>\n",
              "      <td>18.7</td>\n",
              "      <td>394.63</td>\n",
              "      <td>2.94</td>\n",
              "      <td>33.4</td>\n",
              "    </tr>\n",
              "    <tr>\n",
              "      <th>4</th>\n",
              "      <td>0.06905</td>\n",
              "      <td>0.0</td>\n",
              "      <td>2.18</td>\n",
              "      <td>0</td>\n",
              "      <td>0.458</td>\n",
              "      <td>7.147</td>\n",
              "      <td>54.2</td>\n",
              "      <td>6.0622</td>\n",
              "      <td>3</td>\n",
              "      <td>222.0</td>\n",
              "      <td>18.7</td>\n",
              "      <td>396.90</td>\n",
              "      <td>5.33</td>\n",
              "      <td>36.2</td>\n",
              "    </tr>\n",
              "  </tbody>\n",
              "</table>\n",
              "</div>"
            ],
            "text/plain": [
              "      CRIM    ZN  INDUS  CHAS    NOX     RM   AGE     DIS  RAD    TAX  \\\n",
              "0  0.00632  18.0   2.31     0  0.538  6.575  65.2  4.0900    1  296.0   \n",
              "1  0.02731   0.0   7.07     0  0.469  6.421  78.9  4.9671    2  242.0   \n",
              "2  0.02729   0.0   7.07     0  0.469  7.185  61.1  4.9671    2  242.0   \n",
              "3  0.03237   0.0   2.18     0  0.458  6.998  45.8  6.0622    3  222.0   \n",
              "4  0.06905   0.0   2.18     0  0.458  7.147  54.2  6.0622    3  222.0   \n",
              "\n",
              "   PTRATIO       B  LSTAT   TGT  \n",
              "0     15.3  396.90   4.98  24.0  \n",
              "1     17.8  396.90   9.14  21.6  \n",
              "2     17.8  392.83   4.03  34.7  \n",
              "3     18.7  394.63   2.94  33.4  \n",
              "4     18.7  396.90   5.33  36.2  "
            ]
          },
          "execution_count": 42,
          "metadata": {},
          "output_type": "execute_result"
        }
      ],
      "source": [
        "dataFrame.head()"
      ]
    },
    {
      "cell_type": "markdown",
      "metadata": {},
      "source": [
        "## Aufgaben"
      ]
    },
    {
      "cell_type": "markdown",
      "metadata": {},
      "source": [
        "### Aufgabe a)\n",
        "\n",
        "Erstellen der Methode `pca(dataFrame: pd.DataFrame)` zur Durchführung der Hauptkomponentenanalyse:"
      ]
    },
    {
      "cell_type": "code",
      "execution_count": 43,
      "metadata": {},
      "outputs": [],
      "source": [
        "from scipy import stats\n",
        "\n",
        "def pca(dataFrame: pd.DataFrame):\n",
        "    # 1. Zentrierung\n",
        "    for col in dataFrame.columns:\n",
        "        dataFrame[col] = dataFrame[col] - dataFrame[col].mean()\n",
        "    # 2. Normierung\n",
        "    dataFrame = dataFrame.apply(stats.zscore)\n",
        "    # 3. Erstellen einer Daten- und Designmatrix\n",
        "    X = dataFrame.to_numpy()\n",
        "    # 4.-7. Berechnung der Singulärwertzerlegung\n",
        "    U, D, V = np.linalg.svd(X, full_matrices=False)\n",
        "    # U: Unitäre Matrix mit linken singulären Vektoren als Spalten der Form (M,K)\n",
        "    # D: Enthält die singulären Vektoren\n",
        "    # V: Unitäre Matrix mit rechten singulären Vektoren als Reihen der Form (K,N)\n",
        "    return U, D, V"
      ]
    },
    {
      "cell_type": "markdown",
      "metadata": {},
      "source": [
        "### Aufgabe b)\n",
        "\n",
        "Nun wird die zuvor definierte Methode am Datensatz getestet:"
      ]
    },
    {
      "cell_type": "code",
      "execution_count": 56,
      "metadata": {},
      "outputs": [
        {
          "data": {
            "text/html": [
              "<div>\n",
              "<style scoped>\n",
              "    .dataframe tbody tr th:only-of-type {\n",
              "        vertical-align: middle;\n",
              "    }\n",
              "\n",
              "    .dataframe tbody tr th {\n",
              "        vertical-align: top;\n",
              "    }\n",
              "\n",
              "    .dataframe thead th {\n",
              "        text-align: right;\n",
              "    }\n",
              "</style>\n",
              "<table border=\"1\" class=\"dataframe\">\n",
              "  <thead>\n",
              "    <tr style=\"text-align: right;\">\n",
              "      <th></th>\n",
              "      <th>Singular Value</th>\n",
              "      <th>Eigenvalue</th>\n",
              "      <th>Varianz</th>\n",
              "      <th>Explained Variance (%)</th>\n",
              "      <th>Cumulative Explained Variance (%)</th>\n",
              "      <th>Error (%)</th>\n",
              "    </tr>\n",
              "  </thead>\n",
              "  <tbody>\n",
              "    <tr>\n",
              "      <th>0</th>\n",
              "      <td>55.679309</td>\n",
              "      <td>3100.185506</td>\n",
              "      <td>0.110256</td>\n",
              "      <td>22.731479</td>\n",
              "      <td>22.731479</td>\n",
              "      <td>77.269</td>\n",
              "    </tr>\n",
              "    <tr>\n",
              "      <th>1</th>\n",
              "      <td>26.930229</td>\n",
              "      <td>725.237212</td>\n",
              "      <td>0.053327</td>\n",
              "      <td>10.994460</td>\n",
              "      <td>33.725939</td>\n",
              "      <td>66.274</td>\n",
              "    </tr>\n",
              "    <tr>\n",
              "      <th>2</th>\n",
              "      <td>25.075168</td>\n",
              "      <td>628.764037</td>\n",
              "      <td>0.049654</td>\n",
              "      <td>10.237118</td>\n",
              "      <td>43.963057</td>\n",
              "      <td>56.037</td>\n",
              "    </tr>\n",
              "    <tr>\n",
              "      <th>3</th>\n",
              "      <td>20.831059</td>\n",
              "      <td>433.933005</td>\n",
              "      <td>0.041250</td>\n",
              "      <td>8.504430</td>\n",
              "      <td>52.467486</td>\n",
              "      <td>47.533</td>\n",
              "    </tr>\n",
              "    <tr>\n",
              "      <th>4</th>\n",
              "      <td>20.552782</td>\n",
              "      <td>422.416864</td>\n",
              "      <td>0.040699</td>\n",
              "      <td>8.390821</td>\n",
              "      <td>60.858308</td>\n",
              "      <td>39.142</td>\n",
              "    </tr>\n",
              "    <tr>\n",
              "      <th>5</th>\n",
              "      <td>18.238641</td>\n",
              "      <td>332.648031</td>\n",
              "      <td>0.036116</td>\n",
              "      <td>7.446057</td>\n",
              "      <td>68.304364</td>\n",
              "      <td>31.696</td>\n",
              "    </tr>\n",
              "    <tr>\n",
              "      <th>6</th>\n",
              "      <td>16.458742</td>\n",
              "      <td>270.890180</td>\n",
              "      <td>0.032592</td>\n",
              "      <td>6.719400</td>\n",
              "      <td>75.023764</td>\n",
              "      <td>24.976</td>\n",
              "    </tr>\n",
              "    <tr>\n",
              "      <th>7</th>\n",
              "      <td>14.157162</td>\n",
              "      <td>200.425241</td>\n",
              "      <td>0.028034</td>\n",
              "      <td>5.779763</td>\n",
              "      <td>80.803528</td>\n",
              "      <td>19.196</td>\n",
              "    </tr>\n",
              "    <tr>\n",
              "      <th>8</th>\n",
              "      <td>11.837792</td>\n",
              "      <td>140.133325</td>\n",
              "      <td>0.023441</td>\n",
              "      <td>4.832864</td>\n",
              "      <td>85.636392</td>\n",
              "      <td>14.364</td>\n",
              "    </tr>\n",
              "    <tr>\n",
              "      <th>9</th>\n",
              "      <td>10.556531</td>\n",
              "      <td>111.440339</td>\n",
              "      <td>0.020904</td>\n",
              "      <td>4.309780</td>\n",
              "      <td>89.946171</td>\n",
              "      <td>10.054</td>\n",
              "    </tr>\n",
              "    <tr>\n",
              "      <th>10</th>\n",
              "      <td>9.701715</td>\n",
              "      <td>94.123270</td>\n",
              "      <td>0.019211</td>\n",
              "      <td>3.960795</td>\n",
              "      <td>93.906966</td>\n",
              "      <td>6.093</td>\n",
              "    </tr>\n",
              "    <tr>\n",
              "      <th>11</th>\n",
              "      <td>9.255663</td>\n",
              "      <td>85.667306</td>\n",
              "      <td>0.018328</td>\n",
              "      <td>3.778691</td>\n",
              "      <td>97.685657</td>\n",
              "      <td>2.314</td>\n",
              "    </tr>\n",
              "    <tr>\n",
              "      <th>12</th>\n",
              "      <td>5.668835</td>\n",
              "      <td>32.135686</td>\n",
              "      <td>0.011225</td>\n",
              "      <td>2.314343</td>\n",
              "      <td>100.000000</td>\n",
              "      <td>-0.000</td>\n",
              "    </tr>\n",
              "  </tbody>\n",
              "</table>\n",
              "</div>"
            ],
            "text/plain": [
              "    Singular Value   Eigenvalue   Varianz  Explained Variance (%)  \\\n",
              "0        55.679309  3100.185506  0.110256               22.731479   \n",
              "1        26.930229   725.237212  0.053327               10.994460   \n",
              "2        25.075168   628.764037  0.049654               10.237118   \n",
              "3        20.831059   433.933005  0.041250                8.504430   \n",
              "4        20.552782   422.416864  0.040699                8.390821   \n",
              "5        18.238641   332.648031  0.036116                7.446057   \n",
              "6        16.458742   270.890180  0.032592                6.719400   \n",
              "7        14.157162   200.425241  0.028034                5.779763   \n",
              "8        11.837792   140.133325  0.023441                4.832864   \n",
              "9        10.556531   111.440339  0.020904                4.309780   \n",
              "10        9.701715    94.123270  0.019211                3.960795   \n",
              "11        9.255663    85.667306  0.018328                3.778691   \n",
              "12        5.668835    32.135686  0.011225                2.314343   \n",
              "\n",
              "    Cumulative Explained Variance (%)  Error (%)  \n",
              "0                           22.731479     77.269  \n",
              "1                           33.725939     66.274  \n",
              "2                           43.963057     56.037  \n",
              "3                           52.467486     47.533  \n",
              "4                           60.858308     39.142  \n",
              "5                           68.304364     31.696  \n",
              "6                           75.023764     24.976  \n",
              "7                           80.803528     19.196  \n",
              "8                           85.636392     14.364  \n",
              "9                           89.946171     10.054  \n",
              "10                          93.906966      6.093  \n",
              "11                          97.685657      2.314  \n",
              "12                         100.000000     -0.000  "
            ]
          },
          "execution_count": 56,
          "metadata": {},
          "output_type": "execute_result"
        }
      ],
      "source": [
        "dataFrameWithOutTgt = dataFrame.drop('TGT', axis=1)\n",
        "U, D, V = pca(dataFrameWithOutTgt)\n",
        "\n",
        "n = U.shape[0]\n",
        "\n",
        "dataFrameResults = pd.DataFrame(D, columns=['Singular Value'])\n",
        "dataFrameResults['Eigenvalue'] = dataFrameResults['Singular Value'] ** 2\n",
        "dataFrameResults['Varianz'] = dataFrameResults['Singular Value'] / (n - 1)\n",
        "dataFrameResults['Explained Variance (%)'] = (dataFrameResults['Varianz'] / (dataFrameResults['Varianz'].sum())) * 100\n",
        "dataFrameResults['Cumulative Explained Variance (%)'] = dataFrameResults['Explained Variance (%)'].cumsum()\n",
        "dataFrameResults['Error (%)'] = round(100 - dataFrameResults['Cumulative Explained Variance (%)'], 3)\n",
        "dataFrameResults"
      ]
    },
    {
      "cell_type": "markdown",
      "metadata": {},
      "source": [
        "> Achtung: die Diagonalelemente von $D$ müssen dafür quadriert und durch n − 1 geteilt werden. Warum?\n",
        "\n",
        "Dies ist notwendig, da die singulären Werte als Wurzel der Eigenwerte definiert sind (siehe https://math.stackexchange.com/a/127512).  \n",
        "Durch `n - 1` muss geteilt werden, damit man die Varianz erhält (siehe https://stats.stackexchange.com/a/134283).\n",
        "\n",
        "> Wieviele Dimensionen können Sie weglassen, wenn Sie 10%, 5% und 1% Fehler bei der Dimensionsreduktion zulassen?\n",
        "\n",
        "`10%`: 3 Dimensionen  \n",
        "`5%`: 2 Dimensionen  \n",
        "`1%`: 1 Dimension  "
      ]
    }
  ],
  "metadata": {
    "colab": {
      "include_colab_link": true,
      "name": "Explorative Analyse.ipynb",
      "provenance": []
    },
    "kernelspec": {
      "display_name": "Python 3.10.8 64-bit",
      "language": "python",
      "name": "python3"
    },
    "language_info": {
      "codemirror_mode": {
        "name": "ipython",
        "version": 3
      },
      "file_extension": ".py",
      "mimetype": "text/x-python",
      "name": "python",
      "nbconvert_exporter": "python",
      "pygments_lexer": "ipython3",
      "version": "3.10.8"
    },
    "vscode": {
      "interpreter": {
        "hash": "949777d72b0d2535278d3dc13498b2535136f6dfe0678499012e853ee9abcab1"
      }
    }
  },
  "nbformat": 4,
  "nbformat_minor": 0
}
