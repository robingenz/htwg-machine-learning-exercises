{
  "cells": [
    {
      "cell_type": "markdown",
      "metadata": {
        "colab_type": "text",
        "id": "view-in-github"
      },
      "source": [
        "<a href=\"https://colab.research.google.com/github/robingenz/htwg-machine-learning-exercises/blob/main/exercises/01_Explorative_Analyse_und_PCA/01-explorative-analyse.ipynb\" target=\"_parent\"><img src=\"https://colab.research.google.com/assets/colab-badge.svg\" alt=\"Open In Colab\"/></a>"
      ]
    },
    {
      "cell_type": "markdown",
      "metadata": {
        "id": "UAjCEVrKwLuv"
      },
      "source": [
        "# Linear Regression on Fish Data\n",
        "\n",
        "## Setup\n",
        "\n",
        "### Einbinden von Paketen"
      ]
    },
    {
      "cell_type": "code",
      "execution_count": 184,
      "metadata": {
        "colab": {
          "base_uri": "https://localhost:8080/",
          "height": 34
        },
        "id": "7rsOwie3wLuv",
        "outputId": "34399a0c-1e9f-4916-9f13-0423853143b7"
      },
      "outputs": [
        {
          "data": {
            "text/plain": [
              "('1.23.4', '1.5.0', '1.1.3')"
            ]
          },
          "execution_count": 184,
          "metadata": {},
          "output_type": "execute_result"
        }
      ],
      "source": [
        "import matplotlib.pyplot as plt\n",
        "import numpy as np\n",
        "import pandas as pd\n",
        "import sklearn\n",
        "import math\n",
        "%matplotlib inline\n",
        "\n",
        "np.__version__, pd.__version__, sklearn.__version__"
      ]
    },
    {
      "cell_type": "code",
      "execution_count": 185,
      "metadata": {},
      "outputs": [
        {
          "name": "stdout",
          "output_type": "stream",
          "text": [
            "The version_information extension is already loaded. To reload it, use:\n",
            "  %reload_ext version_information\n"
          ]
        },
        {
          "data": {
            "application/json": {
              "Software versions": [
                {
                  "module": "Python",
                  "version": "3.10.8 64bit [GCC 10.2.1 20210110]"
                },
                {
                  "module": "IPython",
                  "version": "8.6.0"
                },
                {
                  "module": "OS",
                  "version": "Linux 5.10.104 linuxkit aarch64 with glibc2.31"
                }
              ]
            },
            "text/html": [
              "<table><tr><th>Software</th><th>Version</th></tr><tr><td>Python</td><td>3.10.8 64bit [GCC 10.2.1 20210110]</td></tr><tr><td>IPython</td><td>8.6.0</td></tr><tr><td>OS</td><td>Linux 5.10.104 linuxkit aarch64 with glibc2.31</td></tr><tr><td colspan='2'>Sun Nov 13 09:02:48 2022 UTC</td></tr></table>"
            ],
            "text/latex": [
              "\\begin{tabular}{|l|l|}\\hline\n",
              "{\\bf Software} & {\\bf Version} \\\\ \\hline\\hline\n",
              "Python & 3.10.8 64bit [GCC 10.2.1 20210110] \\\\ \\hline\n",
              "IPython & 8.6.0 \\\\ \\hline\n",
              "OS & Linux 5.10.104 linuxkit aarch64 with glibc2.31 \\\\ \\hline\n",
              "\\hline \\multicolumn{2}{|l|}{Sun Nov 13 09:02:48 2022 UTC} \\\\ \\hline\n",
              "\\end{tabular}\n"
            ],
            "text/plain": [
              "Software versions\n",
              "Python 3.10.8 64bit [GCC 10.2.1 20210110]\n",
              "IPython 8.6.0\n",
              "OS Linux 5.10.104 linuxkit aarch64 with glibc2.31\n",
              "Sun Nov 13 09:02:48 2022 UTC"
            ]
          },
          "execution_count": 185,
          "metadata": {},
          "output_type": "execute_result"
        }
      ],
      "source": [
        "%load_ext version_information\n",
        "%version_information"
      ]
    },
    {
      "cell_type": "markdown",
      "metadata": {
        "id": "ehL2SIUWwLuz"
      },
      "source": [
        "### Einlesen der Daten"
      ]
    },
    {
      "cell_type": "code",
      "execution_count": 186,
      "metadata": {
        "colab": {
          "base_uri": "https://localhost:8080/",
          "height": 34
        },
        "id": "WI1UOTCOwLuz",
        "outputId": "866d20ae-a13e-401d-f752-b356166ca3eb"
      },
      "outputs": [
        {
          "name": "stdout",
          "output_type": "stream",
          "text": [
            "Downloading\n"
          ]
        },
        {
          "data": {
            "text/plain": [
              "['Sun Nov 13 09:02:48 UTC 2022']"
            ]
          },
          "execution_count": 186,
          "metadata": {},
          "output_type": "execute_result"
        }
      ],
      "source": [
        "# The Fish Data Set\n",
        "# See example 2 from https://stats.idre.ucla.edu/r/dae/zip/ \n",
        "#\"nofish\",\"livebait\",\"camper\",\"persons\",\"child\",\"xb\",\"zg\",\"count\"\n",
        "import os\n",
        "from urllib.request import urlretrieve\n",
        "if not os.path.isfile('fishing.npz'):\n",
        "    print(\"Downloading\")\n",
        "    urlretrieve('http://www-home.htwg-konstanz.de/~oduerr/data/fishing.npz', filename = 'data/fishing.npz')\n",
        "data = np.load('data/fishing.npz')\n",
        "dateDownloaded = !date #Calling Linux\n",
        "dateDownloaded"
      ]
    },
    {
      "cell_type": "code",
      "execution_count": 187,
      "metadata": {},
      "outputs": [
        {
          "data": {
            "text/html": [
              "<div>\n",
              "<style scoped>\n",
              "    .dataframe tbody tr th:only-of-type {\n",
              "        vertical-align: middle;\n",
              "    }\n",
              "\n",
              "    .dataframe tbody tr th {\n",
              "        vertical-align: top;\n",
              "    }\n",
              "\n",
              "    .dataframe thead th {\n",
              "        text-align: right;\n",
              "    }\n",
              "</style>\n",
              "<table border=\"1\" class=\"dataframe\">\n",
              "  <thead>\n",
              "    <tr style=\"text-align: right;\">\n",
              "      <th></th>\n",
              "      <th>Intercept</th>\n",
              "      <th>Livebait</th>\n",
              "      <th>Camper</th>\n",
              "      <th>Person</th>\n",
              "      <th>Child</th>\n",
              "    </tr>\n",
              "  </thead>\n",
              "  <tbody>\n",
              "    <tr>\n",
              "      <th>count</th>\n",
              "      <td>200.0</td>\n",
              "      <td>200.000000</td>\n",
              "      <td>200.000000</td>\n",
              "      <td>200.000000</td>\n",
              "      <td>200.000000</td>\n",
              "    </tr>\n",
              "    <tr>\n",
              "      <th>mean</th>\n",
              "      <td>1.0</td>\n",
              "      <td>0.855000</td>\n",
              "      <td>0.600000</td>\n",
              "      <td>2.540000</td>\n",
              "      <td>0.705000</td>\n",
              "    </tr>\n",
              "    <tr>\n",
              "      <th>std</th>\n",
              "      <td>0.0</td>\n",
              "      <td>0.352984</td>\n",
              "      <td>0.491127</td>\n",
              "      <td>1.133501</td>\n",
              "      <td>0.889907</td>\n",
              "    </tr>\n",
              "    <tr>\n",
              "      <th>min</th>\n",
              "      <td>1.0</td>\n",
              "      <td>0.000000</td>\n",
              "      <td>0.000000</td>\n",
              "      <td>1.000000</td>\n",
              "      <td>0.000000</td>\n",
              "    </tr>\n",
              "    <tr>\n",
              "      <th>25%</th>\n",
              "      <td>1.0</td>\n",
              "      <td>1.000000</td>\n",
              "      <td>0.000000</td>\n",
              "      <td>2.000000</td>\n",
              "      <td>0.000000</td>\n",
              "    </tr>\n",
              "    <tr>\n",
              "      <th>50%</th>\n",
              "      <td>1.0</td>\n",
              "      <td>1.000000</td>\n",
              "      <td>1.000000</td>\n",
              "      <td>3.000000</td>\n",
              "      <td>0.000000</td>\n",
              "    </tr>\n",
              "    <tr>\n",
              "      <th>75%</th>\n",
              "      <td>1.0</td>\n",
              "      <td>1.000000</td>\n",
              "      <td>1.000000</td>\n",
              "      <td>4.000000</td>\n",
              "      <td>1.000000</td>\n",
              "    </tr>\n",
              "    <tr>\n",
              "      <th>max</th>\n",
              "      <td>1.0</td>\n",
              "      <td>1.000000</td>\n",
              "      <td>1.000000</td>\n",
              "      <td>4.000000</td>\n",
              "      <td>3.000000</td>\n",
              "    </tr>\n",
              "  </tbody>\n",
              "</table>\n",
              "</div>"
            ],
            "text/plain": [
              "       Intercept    Livebait      Camper      Person       Child\n",
              "count      200.0  200.000000  200.000000  200.000000  200.000000\n",
              "mean         1.0    0.855000    0.600000    2.540000    0.705000\n",
              "std          0.0    0.352984    0.491127    1.133501    0.889907\n",
              "min          1.0    0.000000    0.000000    1.000000    0.000000\n",
              "25%          1.0    1.000000    0.000000    2.000000    0.000000\n",
              "50%          1.0    1.000000    1.000000    3.000000    0.000000\n",
              "75%          1.0    1.000000    1.000000    4.000000    1.000000\n",
              "max          1.0    1.000000    1.000000    4.000000    3.000000"
            ]
          },
          "execution_count": 187,
          "metadata": {},
          "output_type": "execute_result"
        }
      ],
      "source": [
        "# Training Set X\n",
        "xTrainingDataFrame = pd.DataFrame(data['Xt'], columns=[\"Livebait\", \"Camper\", \"Person\", \"Child\"])\n",
        "xTrainingDataFrame.insert(0, 'Intercept', np.ones(200))\n",
        "xTrainingDataFrame.describe()"
      ]
    },
    {
      "cell_type": "code",
      "execution_count": 188,
      "metadata": {},
      "outputs": [
        {
          "data": {
            "text/html": [
              "<div>\n",
              "<style scoped>\n",
              "    .dataframe tbody tr th:only-of-type {\n",
              "        vertical-align: middle;\n",
              "    }\n",
              "\n",
              "    .dataframe tbody tr th {\n",
              "        vertical-align: top;\n",
              "    }\n",
              "\n",
              "    .dataframe thead th {\n",
              "        text-align: right;\n",
              "    }\n",
              "</style>\n",
              "<table border=\"1\" class=\"dataframe\">\n",
              "  <thead>\n",
              "    <tr style=\"text-align: right;\">\n",
              "      <th></th>\n",
              "      <th>Intercept</th>\n",
              "      <th>Livebait</th>\n",
              "      <th>Camper</th>\n",
              "      <th>Person</th>\n",
              "      <th>Child</th>\n",
              "    </tr>\n",
              "  </thead>\n",
              "  <tbody>\n",
              "    <tr>\n",
              "      <th>count</th>\n",
              "      <td>50.0</td>\n",
              "      <td>50.000000</td>\n",
              "      <td>50.000000</td>\n",
              "      <td>50.000000</td>\n",
              "      <td>50.000000</td>\n",
              "    </tr>\n",
              "    <tr>\n",
              "      <th>mean</th>\n",
              "      <td>1.0</td>\n",
              "      <td>0.900000</td>\n",
              "      <td>0.540000</td>\n",
              "      <td>2.480000</td>\n",
              "      <td>0.600000</td>\n",
              "    </tr>\n",
              "    <tr>\n",
              "      <th>std</th>\n",
              "      <td>0.0</td>\n",
              "      <td>0.303046</td>\n",
              "      <td>0.503457</td>\n",
              "      <td>1.034901</td>\n",
              "      <td>0.670059</td>\n",
              "    </tr>\n",
              "    <tr>\n",
              "      <th>min</th>\n",
              "      <td>1.0</td>\n",
              "      <td>0.000000</td>\n",
              "      <td>0.000000</td>\n",
              "      <td>1.000000</td>\n",
              "      <td>0.000000</td>\n",
              "    </tr>\n",
              "    <tr>\n",
              "      <th>25%</th>\n",
              "      <td>1.0</td>\n",
              "      <td>1.000000</td>\n",
              "      <td>0.000000</td>\n",
              "      <td>2.000000</td>\n",
              "      <td>0.000000</td>\n",
              "    </tr>\n",
              "    <tr>\n",
              "      <th>50%</th>\n",
              "      <td>1.0</td>\n",
              "      <td>1.000000</td>\n",
              "      <td>1.000000</td>\n",
              "      <td>2.000000</td>\n",
              "      <td>0.500000</td>\n",
              "    </tr>\n",
              "    <tr>\n",
              "      <th>75%</th>\n",
              "      <td>1.0</td>\n",
              "      <td>1.000000</td>\n",
              "      <td>1.000000</td>\n",
              "      <td>3.000000</td>\n",
              "      <td>1.000000</td>\n",
              "    </tr>\n",
              "    <tr>\n",
              "      <th>max</th>\n",
              "      <td>1.0</td>\n",
              "      <td>1.000000</td>\n",
              "      <td>1.000000</td>\n",
              "      <td>4.000000</td>\n",
              "      <td>2.000000</td>\n",
              "    </tr>\n",
              "  </tbody>\n",
              "</table>\n",
              "</div>"
            ],
            "text/plain": [
              "       Intercept   Livebait     Camper     Person      Child\n",
              "count       50.0  50.000000  50.000000  50.000000  50.000000\n",
              "mean         1.0   0.900000   0.540000   2.480000   0.600000\n",
              "std          0.0   0.303046   0.503457   1.034901   0.670059\n",
              "min          1.0   0.000000   0.000000   1.000000   0.000000\n",
              "25%          1.0   1.000000   0.000000   2.000000   0.000000\n",
              "50%          1.0   1.000000   1.000000   2.000000   0.500000\n",
              "75%          1.0   1.000000   1.000000   3.000000   1.000000\n",
              "max          1.0   1.000000   1.000000   4.000000   2.000000"
            ]
          },
          "execution_count": 188,
          "metadata": {},
          "output_type": "execute_result"
        }
      ],
      "source": [
        "# Test Set X\n",
        "xTestDataFrame = pd.DataFrame(data['Xte'], columns=[\"Livebait\", \"Camper\", \"Person\", \"Child\"])\n",
        "xTestDataFrame.insert(0, 'Intercept', np.ones(50))\n",
        "xTestDataFrame.describe()"
      ]
    },
    {
      "cell_type": "code",
      "execution_count": 189,
      "metadata": {},
      "outputs": [
        {
          "data": {
            "text/html": [
              "<div>\n",
              "<style scoped>\n",
              "    .dataframe tbody tr th:only-of-type {\n",
              "        vertical-align: middle;\n",
              "    }\n",
              "\n",
              "    .dataframe tbody tr th {\n",
              "        vertical-align: top;\n",
              "    }\n",
              "\n",
              "    .dataframe thead th {\n",
              "        text-align: right;\n",
              "    }\n",
              "</style>\n",
              "<table border=\"1\" class=\"dataframe\">\n",
              "  <thead>\n",
              "    <tr style=\"text-align: right;\">\n",
              "      <th></th>\n",
              "      <th>Count</th>\n",
              "    </tr>\n",
              "  </thead>\n",
              "  <tbody>\n",
              "    <tr>\n",
              "      <th>count</th>\n",
              "      <td>200.000000</td>\n",
              "    </tr>\n",
              "    <tr>\n",
              "      <th>mean</th>\n",
              "      <td>3.355000</td>\n",
              "    </tr>\n",
              "    <tr>\n",
              "      <th>std</th>\n",
              "      <td>11.984872</td>\n",
              "    </tr>\n",
              "    <tr>\n",
              "      <th>min</th>\n",
              "      <td>0.000000</td>\n",
              "    </tr>\n",
              "    <tr>\n",
              "      <th>25%</th>\n",
              "      <td>0.000000</td>\n",
              "    </tr>\n",
              "    <tr>\n",
              "      <th>50%</th>\n",
              "      <td>0.000000</td>\n",
              "    </tr>\n",
              "    <tr>\n",
              "      <th>75%</th>\n",
              "      <td>2.000000</td>\n",
              "    </tr>\n",
              "    <tr>\n",
              "      <th>max</th>\n",
              "      <td>149.000000</td>\n",
              "    </tr>\n",
              "  </tbody>\n",
              "</table>\n",
              "</div>"
            ],
            "text/plain": [
              "            Count\n",
              "count  200.000000\n",
              "mean     3.355000\n",
              "std     11.984872\n",
              "min      0.000000\n",
              "25%      0.000000\n",
              "50%      0.000000\n",
              "75%      2.000000\n",
              "max    149.000000"
            ]
          },
          "execution_count": 189,
          "metadata": {},
          "output_type": "execute_result"
        }
      ],
      "source": [
        "# Training Set Y\n",
        "yTrainingDataFrame = pd.DataFrame(data['yt'], columns=[\"Count\"])\n",
        "yTrainingDataFrame.describe()"
      ]
    },
    {
      "cell_type": "code",
      "execution_count": 190,
      "metadata": {},
      "outputs": [
        {
          "data": {
            "text/html": [
              "<div>\n",
              "<style scoped>\n",
              "    .dataframe tbody tr th:only-of-type {\n",
              "        vertical-align: middle;\n",
              "    }\n",
              "\n",
              "    .dataframe tbody tr th {\n",
              "        vertical-align: top;\n",
              "    }\n",
              "\n",
              "    .dataframe thead th {\n",
              "        text-align: right;\n",
              "    }\n",
              "</style>\n",
              "<table border=\"1\" class=\"dataframe\">\n",
              "  <thead>\n",
              "    <tr style=\"text-align: right;\">\n",
              "      <th></th>\n",
              "      <th>Count</th>\n",
              "    </tr>\n",
              "  </thead>\n",
              "  <tbody>\n",
              "    <tr>\n",
              "      <th>count</th>\n",
              "      <td>50.000000</td>\n",
              "    </tr>\n",
              "    <tr>\n",
              "      <th>mean</th>\n",
              "      <td>3.060000</td>\n",
              "    </tr>\n",
              "    <tr>\n",
              "      <th>std</th>\n",
              "      <td>10.222843</td>\n",
              "    </tr>\n",
              "    <tr>\n",
              "      <th>min</th>\n",
              "      <td>0.000000</td>\n",
              "    </tr>\n",
              "    <tr>\n",
              "      <th>25%</th>\n",
              "      <td>0.000000</td>\n",
              "    </tr>\n",
              "    <tr>\n",
              "      <th>50%</th>\n",
              "      <td>0.000000</td>\n",
              "    </tr>\n",
              "    <tr>\n",
              "      <th>75%</th>\n",
              "      <td>1.000000</td>\n",
              "    </tr>\n",
              "    <tr>\n",
              "      <th>max</th>\n",
              "      <td>65.000000</td>\n",
              "    </tr>\n",
              "  </tbody>\n",
              "</table>\n",
              "</div>"
            ],
            "text/plain": [
              "           Count\n",
              "count  50.000000\n",
              "mean    3.060000\n",
              "std    10.222843\n",
              "min     0.000000\n",
              "25%     0.000000\n",
              "50%     0.000000\n",
              "75%     1.000000\n",
              "max    65.000000"
            ]
          },
          "execution_count": 190,
          "metadata": {},
          "output_type": "execute_result"
        }
      ],
      "source": [
        "# Test Set Y\n",
        "yTestDataFrame = pd.DataFrame(data['yte'], columns=[\"Count\"])\n",
        "yTestDataFrame.describe()"
      ]
    },
    {
      "cell_type": "markdown",
      "metadata": {},
      "source": [
        "## Aufgaben"
      ]
    },
    {
      "cell_type": "markdown",
      "metadata": {},
      "source": [
        "### Aufgabe a)"
      ]
    },
    {
      "cell_type": "code",
      "execution_count": 191,
      "metadata": {},
      "outputs": [
        {
          "data": {
            "text/plain": [
              "array([[-8.49222821],\n",
              "       [ 2.4822138 ],\n",
              "       [ 2.95430727],\n",
              "       [ 4.64953914],\n",
              "       [-5.47160051]])"
            ]
          },
          "execution_count": 191,
          "metadata": {},
          "output_type": "execute_result"
        }
      ],
      "source": [
        "# See: https://github.com/ioskn/mldl_htwg/blob/master/linear_methods/LinearRegression.ipynb\n",
        "X = xTrainingDataFrame.to_numpy()\n",
        "y = yTrainingDataFrame.to_numpy()\n",
        "XTX = np.matmul(X.T,X)\n",
        "XTXI = np.linalg.inv(XTX)\n",
        "XTXIXT = np.matmul(XTXI, X.T)\n",
        "w = np.matmul(XTXIXT,y)\n",
        "w"
      ]
    },
    {
      "cell_type": "code",
      "execution_count": 207,
      "metadata": {},
      "outputs": [
        {
          "data": {
            "text/plain": [
              "73.75591483452077"
            ]
          },
          "execution_count": 207,
          "metadata": {},
          "output_type": "execute_result"
        }
      ],
      "source": [
        "diffObservedYAndPredictedYTraining = np.matmul(X,w).flatten() - y.flatten()\n",
        "mse_training = np.mean(np.square(diffObservedYAndPredictedYTraining))\n",
        "mse_training"
      ]
    },
    {
      "cell_type": "markdown",
      "metadata": {},
      "source": [
        "### Aufgabe b)"
      ]
    },
    {
      "cell_type": "code",
      "execution_count": 208,
      "metadata": {},
      "outputs": [
        {
          "data": {
            "text/plain": [
              "array([[-13.7236033 ,   6.80694922,   2.68477058,   5.55087405,\n",
              "         -7.59765794]])"
            ]
          },
          "execution_count": 208,
          "metadata": {},
          "output_type": "execute_result"
        }
      ],
      "source": [
        "# See: https://github.com/ioskn/mldl_htwg/blob/master/linear_methods/LinearRegression.ipynb\n",
        "from sklearn.linear_model import LinearRegression\n",
        "model_skl = LinearRegression(fit_intercept=False) #We have an extended X\n",
        "model_skl.fit(X,y)\n",
        "model_skl.coef_"
      ]
    },
    {
      "cell_type": "markdown",
      "metadata": {},
      "source": [
        "### Aufgabe c)"
      ]
    },
    {
      "cell_type": "markdown",
      "metadata": {},
      "source": [
        "Bestimmen des **Root Mean Square Errors (RMSE)** für das Testset:"
      ]
    },
    {
      "cell_type": "code",
      "execution_count": 209,
      "metadata": {},
      "outputs": [
        {
          "data": {
            "text/plain": [
              "8.588126386734231"
            ]
          },
          "execution_count": 209,
          "metadata": {},
          "output_type": "execute_result"
        }
      ],
      "source": [
        "X = xTestDataFrame.to_numpy()\n",
        "y = yTestDataFrame.to_numpy()\n",
        "diffObservedYAndPredictedYTest = np.matmul(X,w).flatten() - y.flatten()\n",
        "mse_test = np.mean(np.square(diffObservedYAndPredictedYTest))\n",
        "rmse_test = np.sqrt(mse_test)\n",
        "rmse_test"
      ]
    },
    {
      "cell_type": "markdown",
      "metadata": {},
      "source": [
        "Bestimmen der **durchschnittlichen negativen Log-Likelihood (NLL)** für das Testset:"
      ]
    },
    {
      "cell_type": "code",
      "execution_count": 210,
      "metadata": {},
      "outputs": [
        {
          "name": "stdout",
          "output_type": "stream",
          "text": [
            "NLL 3.5674507288796327\n"
          ]
        }
      ],
      "source": [
        "from scipy.stats import norm\n",
        "sigma2 = mse_test\n",
        "\n",
        "gaussian = norm.pdf(diffObservedYAndPredictedYTest, loc=(diffObservedYAndPredictedYTest).mean(), scale=np.sqrt(sigma2))\n",
        "nll = -np.log(gaussian).mean()\n",
        "print('NLL', nll)"
      ]
    },
    {
      "cell_type": "markdown",
      "metadata": {},
      "source": [
        "### Aufgabe d)"
      ]
    },
    {
      "cell_type": "code",
      "execution_count": 214,
      "metadata": {},
      "outputs": [
        {
          "data": {
            "image/png": "[encoded data removed]",
            "text/plain": [
              "<Figure size 640x480 with 1 Axes>"
            ]
          },
          "metadata": {},
          "output_type": "display_data"
        }
      ],
      "source": [
        "from scipy.stats import linregress\n",
        "\n",
        "yPred = np.matmul(X,w).flatten()\n",
        "plt.scatter(yPred, y.flatten())\n",
        "\n",
        "reg = linregress(yPred, yPred)\n",
        "plt.axline(xy1=(0, reg.intercept), slope=reg.slope, color=\"green\")\n",
        "\n",
        "reg = linregress(yPred, yPred+1.96*np.sqrt(sigma2))\n",
        "plt.axline(xy1=(0, reg.intercept), slope=reg.slope, linestyle=\"--\", color=\"red\")\n",
        "\n",
        "reg = linregress(yPred, yPred-1.96*np.sqrt(sigma2))\n",
        "plt.axline(xy1=(0, reg.intercept), slope=reg.slope, linestyle=\"--\", color=\"red\")\n",
        "\n",
        "plt.xlabel('Predicted number of fish caught')\n",
        "plt.ylabel('Observed number of fish caught')\n",
        "plt.show()"
      ]
    },
    {
      "cell_type": "markdown",
      "metadata": {},
      "source": [
        "### Aufgabe e)"
      ]
    },
    {
      "cell_type": "code",
      "execution_count": null,
      "metadata": {},
      "outputs": [],
      "source": []
    }
  ],
  "metadata": {
    "colab": {
      "include_colab_link": true,
      "name": "Explorative Analyse.ipynb",
      "provenance": []
    },
    "kernelspec": {
      "display_name": "Python 3.10.4 64-bit",
      "language": "python",
      "name": "python3"
    },
    "language_info": {
      "codemirror_mode": {
        "name": "ipython",
        "version": 3
      },
      "file_extension": ".py",
      "mimetype": "text/x-python",
      "name": "python",
      "nbconvert_exporter": "python",
      "pygments_lexer": "ipython3",
      "version": "3.10.8"
    },
    "vscode": {
      "interpreter": {
        "hash": "949777d72b0d2535278d3dc13498b2535136f6dfe0678499012e853ee9abcab1"
      }
    }
  },
  "nbformat": 4,
  "nbformat_minor": 0
}
