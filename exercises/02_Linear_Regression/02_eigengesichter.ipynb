{
  "cells": [
    {
      "cell_type": "markdown",
      "metadata": {
        "colab_type": "text",
        "id": "view-in-github"
      },
      "source": [
        "<a href=\"https://colab.research.google.com/github/robingenz/htwg-machine-learning-exercises/blob/main/exercises/01_Explorative_Analyse_und_PCA/01-explorative-analyse.ipynb\" target=\"_parent\"><img src=\"https://colab.research.google.com/assets/colab-badge.svg\" alt=\"Open In Colab\"/></a>"
      ]
    },
    {
      "cell_type": "markdown",
      "metadata": {
        "id": "UAjCEVrKwLuv"
      },
      "source": [
        "# Eigengesichter\n",
        "\n",
        "## Setup\n",
        "\n",
        "### Einbinden von Paketen"
      ]
    },
    {
      "cell_type": "code",
      "execution_count": 18,
      "metadata": {
        "colab": {
          "base_uri": "https://localhost:8080/",
          "height": 34
        },
        "id": "7rsOwie3wLuv",
        "outputId": "34399a0c-1e9f-4916-9f13-0423853143b7"
      },
      "outputs": [
        {
          "data": {
            "text/plain": [
              "('1.23.4', '1.5.0', '1.1.3')"
            ]
          },
          "execution_count": 18,
          "metadata": {},
          "output_type": "execute_result"
        }
      ],
      "source": [
        "import matplotlib.pyplot as plt\n",
        "import numpy as np\n",
        "import pandas as pd\n",
        "import sklearn\n",
        "import math\n",
        "%matplotlib inline\n",
        "\n",
        "np.__version__, pd.__version__, sklearn.__version__"
      ]
    },
    {
      "cell_type": "code",
      "execution_count": 19,
      "metadata": {},
      "outputs": [
        {
          "name": "stdout",
          "output_type": "stream",
          "text": [
            "The version_information extension is already loaded. To reload it, use:\n",
            "  %reload_ext version_information\n"
          ]
        },
        {
          "data": {
            "application/json": {
              "Software versions": [
                {
                  "module": "Python",
                  "version": "3.10.8 64bit [GCC 10.2.1 20210110]"
                },
                {
                  "module": "IPython",
                  "version": "8.6.0"
                },
                {
                  "module": "OS",
                  "version": "Linux 5.10.104 linuxkit aarch64 with glibc2.31"
                }
              ]
            },
            "text/html": [
              "<table><tr><th>Software</th><th>Version</th></tr><tr><td>Python</td><td>3.10.8 64bit [GCC 10.2.1 20210110]</td></tr><tr><td>IPython</td><td>8.6.0</td></tr><tr><td>OS</td><td>Linux 5.10.104 linuxkit aarch64 with glibc2.31</td></tr><tr><td colspan='2'>Sun Nov 13 19:28:03 2022 UTC</td></tr></table>"
            ],
            "text/latex": [
              "\\begin{tabular}{|l|l|}\\hline\n",
              "{\\bf Software} & {\\bf Version} \\\\ \\hline\\hline\n",
              "Python & 3.10.8 64bit [GCC 10.2.1 20210110] \\\\ \\hline\n",
              "IPython & 8.6.0 \\\\ \\hline\n",
              "OS & Linux 5.10.104 linuxkit aarch64 with glibc2.31 \\\\ \\hline\n",
              "\\hline \\multicolumn{2}{|l|}{Sun Nov 13 19:28:03 2022 UTC} \\\\ \\hline\n",
              "\\end{tabular}\n"
            ],
            "text/plain": [
              "Software versions\n",
              "Python 3.10.8 64bit [GCC 10.2.1 20210110]\n",
              "IPython 8.6.0\n",
              "OS Linux 5.10.104 linuxkit aarch64 with glibc2.31\n",
              "Sun Nov 13 19:28:03 2022 UTC"
            ]
          },
          "execution_count": 19,
          "metadata": {},
          "output_type": "execute_result"
        }
      ],
      "source": [
        "%load_ext version_information\n",
        "%version_information"
      ]
    },
    {
      "cell_type": "markdown",
      "metadata": {},
      "source": [
        "## Aufgaben"
      ]
    },
    {
      "cell_type": "markdown",
      "metadata": {},
      "source": [
        "### Aufgabe a)"
      ]
    },
    {
      "cell_type": "code",
      "execution_count": 27,
      "metadata": {},
      "outputs": [
        {
          "name": "stdout",
          "output_type": "stream",
          "text": [
            "['Sun Nov 13 19:36:55 UTC 2022']\n"
          ]
        }
      ],
      "source": [
        "import os\n",
        "from urllib.request import urlretrieve\n",
        "import tarfile\n",
        "\n",
        "tgz_file_path = 'data/lfw-funneled.tgz'\n",
        "data_dir_path = 'data/lfw_funneled'\n",
        "\n",
        "# Herunterladen des Datensatzes\n",
        "if not os.path.isfile(tgz_file_path):\n",
        "    print(\"Downloading...\")\n",
        "    urlretrieve('http://vis-www.cs.umass.edu/lfw/lfw-funneled.tgz', filename = tgz_file_path)\n",
        "    print(\"Download finished.\")\n",
        "\n",
        "dateDownloaded = !date #Calling Linux\n",
        "print(dateDownloaded)\n",
        "\n",
        "# Entpacken des Datensatzes\n",
        "if not os.path.isdir(data_dir_path):\n",
        "    print(\"Extracting...\")\n",
        "    tar = tarfile.open(tgz_file_path, 'r:gz')\n",
        "    tar.extractall(path='data/')\n",
        "    tar.close()\n",
        "    print(\"Extract finished.\")"
      ]
    },
    {
      "cell_type": "markdown",
      "metadata": {},
      "source": [
        "Finden von Personen mit **70 oder mehr** Bildern:"
      ]
    },
    {
      "cell_type": "code",
      "execution_count": 39,
      "metadata": {},
      "outputs": [
        {
          "name": "stdout",
          "output_type": "stream",
          "text": [
            "Found 7 persons with ≥ 70 images.\n"
          ]
        }
      ],
      "source": [
        "person_dir_paths = []\n",
        "for subdir, _, files in os.walk(data_dir_path):\n",
        "    if len(files) >= 70:\n",
        "        person_dir_paths.append(subdir)\n",
        "\n",
        "print('Found', len(person_dir_paths), 'persons with ≥ 70 images.')"
      ]
    },
    {
      "cell_type": "markdown",
      "metadata": {},
      "source": [
        "### Aufgabe b)"
      ]
    },
    {
      "cell_type": "markdown",
      "metadata": {},
      "source": [
        "Datensatz in Trainings- und Testbilder aufteilen."
      ]
    },
    {
      "cell_type": "code",
      "execution_count": 43,
      "metadata": {},
      "outputs": [
        {
          "name": "stdout",
          "output_type": "stream",
          "text": [
            "Splitted into 7 test images and 1281 training images.\n"
          ]
        }
      ],
      "source": [
        "from os import listdir\n",
        "\n",
        "test_image_paths = []\n",
        "training_image_paths = []\n",
        "\n",
        "for person_dir_path in person_dir_paths:\n",
        "    files = sorted(listdir(person_dir_path))\n",
        "    test_image_paths.append(f'{person_dir_path}/{files[0]}')\n",
        "    for i in range(1, len(files)):\n",
        "        training_image_paths.append(f'{person_dir_path}/{files[i]}')\n",
        "\n",
        "print('Splitted into', len(test_image_paths), 'test images and', len(training_image_paths), 'training images.')"
      ]
    }
  ],
  "metadata": {
    "colab": {
      "include_colab_link": true,
      "name": "Explorative Analyse.ipynb",
      "provenance": []
    },
    "kernelspec": {
      "display_name": "Python 3.10.4 64-bit",
      "language": "python",
      "name": "python3"
    },
    "language_info": {
      "codemirror_mode": {
        "name": "ipython",
        "version": 3
      },
      "file_extension": ".py",
      "mimetype": "text/x-python",
      "name": "python",
      "nbconvert_exporter": "python",
      "pygments_lexer": "ipython3",
      "version": "3.10.8"
    },
    "vscode": {
      "interpreter": {
        "hash": "949777d72b0d2535278d3dc13498b2535136f6dfe0678499012e853ee9abcab1"
      }
    }
  },
  "nbformat": 4,
  "nbformat_minor": 0
}
