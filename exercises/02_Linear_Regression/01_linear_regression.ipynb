{
  "cells": [
    {
      "cell_type": "markdown",
      "metadata": {
        "colab_type": "text",
        "id": "view-in-github"
      },
      "source": [
        "<a href=\"https://colab.research.google.com/github/robingenz/htwg-machine-learning-exercises/blob/main/exercises/02_Linear_Regression/01_linear_regression.ipynb\" target=\"_parent\"><img src=\"https://colab.research.google.com/assets/colab-badge.svg\" alt=\"Open In Colab\"/></a>"
      ]
    },
    {
      "cell_type": "markdown",
      "metadata": {
        "id": "UAjCEVrKwLuv"
      },
      "source": [
        "# Linear Regression on Fish Data\n",
        "\n",
        "## Setup\n",
        "\n",
        "### Einbinden von Paketen"
      ]
    },
    {
      "cell_type": "code",
      "execution_count": 2,
      "metadata": {
        "colab": {
          "base_uri": "https://localhost:8080/",
          "height": 34
        },
        "id": "7rsOwie3wLuv",
        "outputId": "34399a0c-1e9f-4916-9f13-0423853143b7"
      },
      "outputs": [
        {
          "data": {
            "text/plain": [
              "('1.23.4', '1.5.0', '1.1.3')"
            ]
          },
          "execution_count": 2,
          "metadata": {},
          "output_type": "execute_result"
        }
      ],
      "source": [
        "import matplotlib.pyplot as plt\n",
        "import numpy as np\n",
        "import pandas as pd\n",
        "import sklearn\n",
        "import math\n",
        "%matplotlib inline\n",
        "\n",
        "np.__version__, pd.__version__, sklearn.__version__"
      ]
    },
    {
      "cell_type": "code",
      "execution_count": 3,
      "metadata": {},
      "outputs": [
        {
          "data": {
            "application/json": {
              "Software versions": [
                {
                  "module": "Python",
                  "version": "3.10.8 64bit [GCC 10.2.1 20210110]"
                },
                {
                  "module": "IPython",
                  "version": "8.5.0"
                },
                {
                  "module": "OS",
                  "version": "Linux 5.10.16.3 microsoft standard WSL2 x86_64 with glibc2.31"
                }
              ]
            },
            "text/html": [
              "<table><tr><th>Software</th><th>Version</th></tr><tr><td>Python</td><td>3.10.8 64bit [GCC 10.2.1 20210110]</td></tr><tr><td>IPython</td><td>8.5.0</td></tr><tr><td>OS</td><td>Linux 5.10.16.3 microsoft standard WSL2 x86\\_64 with glibc2.31</td></tr><tr><td colspan='2'>Fri Nov 18 21:02:33 2022 UTC</td></tr></table>"
            ],
            "text/latex": [
              "\\begin{tabular}{|l|l|}\\hline\n",
              "{\\bf Software} & {\\bf Version} \\\\ \\hline\\hline\n",
              "Python & 3.10.8 64bit [GCC 10.2.1 20210110] \\\\ \\hline\n",
              "IPython & 8.5.0 \\\\ \\hline\n",
              "OS & Linux 5.10.16.3 microsoft standard WSL2 x86\\_64 with glibc2.31 \\\\ \\hline\n",
              "\\hline \\multicolumn{2}{|l|}{Fri Nov 18 21:02:33 2022 UTC} \\\\ \\hline\n",
              "\\end{tabular}\n"
            ],
            "text/plain": [
              "Software versions\n",
              "Python 3.10.8 64bit [GCC 10.2.1 20210110]\n",
              "IPython 8.5.0\n",
              "OS Linux 5.10.16.3 microsoft standard WSL2 x86_64 with glibc2.31\n",
              "Fri Nov 18 21:02:33 2022 UTC"
            ]
          },
          "execution_count": 3,
          "metadata": {},
          "output_type": "execute_result"
        }
      ],
      "source": [
        "%load_ext version_information\n",
        "%version_information"
      ]
    },
    {
      "cell_type": "markdown",
      "metadata": {
        "id": "ehL2SIUWwLuz"
      },
      "source": [
        "### Einlesen der Daten"
      ]
    },
    {
      "cell_type": "code",
      "execution_count": 4,
      "metadata": {
        "colab": {
          "base_uri": "https://localhost:8080/",
          "height": 34
        },
        "id": "WI1UOTCOwLuz",
        "outputId": "866d20ae-a13e-401d-f752-b356166ca3eb"
      },
      "outputs": [
        {
          "data": {
            "text/plain": [
              "['Fri Nov 18 21:02:33 UTC 2022']"
            ]
          },
          "execution_count": 4,
          "metadata": {},
          "output_type": "execute_result"
        }
      ],
      "source": [
        "# The Fish Data Set\n",
        "# See example 2 from https://stats.idre.ucla.edu/r/dae/zip/ \n",
        "#\"nofish\",\"livebait\",\"camper\",\"persons\",\"child\",\"xb\",\"zg\",\"count\"\n",
        "import os\n",
        "from urllib.request import urlretrieve\n",
        "if not os.path.isfile('data/fishing.npz'):\n",
        "    print(\"Downloading...\")\n",
        "    urlretrieve('http://www-home.htwg-konstanz.de/~oduerr/data/fishing.npz', filename = 'data/fishing.npz')\n",
        "data = np.load('data/fishing.npz')\n",
        "dateDownloaded = !date #Calling Linux\n",
        "dateDownloaded"
      ]
    },
    {
      "cell_type": "code",
      "execution_count": 5,
      "metadata": {},
      "outputs": [
        {
          "data": {
            "text/html": [
              "<div>\n",
              "<style scoped>\n",
              "    .dataframe tbody tr th:only-of-type {\n",
              "        vertical-align: middle;\n",
              "    }\n",
              "\n",
              "    .dataframe tbody tr th {\n",
              "        vertical-align: top;\n",
              "    }\n",
              "\n",
              "    .dataframe thead th {\n",
              "        text-align: right;\n",
              "    }\n",
              "</style>\n",
              "<table border=\"1\" class=\"dataframe\">\n",
              "  <thead>\n",
              "    <tr style=\"text-align: right;\">\n",
              "      <th></th>\n",
              "      <th>Intercept</th>\n",
              "      <th>Livebait</th>\n",
              "      <th>Camper</th>\n",
              "      <th>Person</th>\n",
              "      <th>Child</th>\n",
              "    </tr>\n",
              "  </thead>\n",
              "  <tbody>\n",
              "    <tr>\n",
              "      <th>count</th>\n",
              "      <td>200.0</td>\n",
              "      <td>200.000000</td>\n",
              "      <td>200.000000</td>\n",
              "      <td>200.000000</td>\n",
              "      <td>200.000000</td>\n",
              "    </tr>\n",
              "    <tr>\n",
              "      <th>mean</th>\n",
              "      <td>1.0</td>\n",
              "      <td>0.855000</td>\n",
              "      <td>0.600000</td>\n",
              "      <td>2.540000</td>\n",
              "      <td>0.705000</td>\n",
              "    </tr>\n",
              "    <tr>\n",
              "      <th>std</th>\n",
              "      <td>0.0</td>\n",
              "      <td>0.352984</td>\n",
              "      <td>0.491127</td>\n",
              "      <td>1.133501</td>\n",
              "      <td>0.889907</td>\n",
              "    </tr>\n",
              "    <tr>\n",
              "      <th>min</th>\n",
              "      <td>1.0</td>\n",
              "      <td>0.000000</td>\n",
              "      <td>0.000000</td>\n",
              "      <td>1.000000</td>\n",
              "      <td>0.000000</td>\n",
              "    </tr>\n",
              "    <tr>\n",
              "      <th>25%</th>\n",
              "      <td>1.0</td>\n",
              "      <td>1.000000</td>\n",
              "      <td>0.000000</td>\n",
              "      <td>2.000000</td>\n",
              "      <td>0.000000</td>\n",
              "    </tr>\n",
              "    <tr>\n",
              "      <th>50%</th>\n",
              "      <td>1.0</td>\n",
              "      <td>1.000000</td>\n",
              "      <td>1.000000</td>\n",
              "      <td>3.000000</td>\n",
              "      <td>0.000000</td>\n",
              "    </tr>\n",
              "    <tr>\n",
              "      <th>75%</th>\n",
              "      <td>1.0</td>\n",
              "      <td>1.000000</td>\n",
              "      <td>1.000000</td>\n",
              "      <td>4.000000</td>\n",
              "      <td>1.000000</td>\n",
              "    </tr>\n",
              "    <tr>\n",
              "      <th>max</th>\n",
              "      <td>1.0</td>\n",
              "      <td>1.000000</td>\n",
              "      <td>1.000000</td>\n",
              "      <td>4.000000</td>\n",
              "      <td>3.000000</td>\n",
              "    </tr>\n",
              "  </tbody>\n",
              "</table>\n",
              "</div>"
            ],
            "text/plain": [
              "       Intercept    Livebait      Camper      Person       Child\n",
              "count      200.0  200.000000  200.000000  200.000000  200.000000\n",
              "mean         1.0    0.855000    0.600000    2.540000    0.705000\n",
              "std          0.0    0.352984    0.491127    1.133501    0.889907\n",
              "min          1.0    0.000000    0.000000    1.000000    0.000000\n",
              "25%          1.0    1.000000    0.000000    2.000000    0.000000\n",
              "50%          1.0    1.000000    1.000000    3.000000    0.000000\n",
              "75%          1.0    1.000000    1.000000    4.000000    1.000000\n",
              "max          1.0    1.000000    1.000000    4.000000    3.000000"
            ]
          },
          "execution_count": 5,
          "metadata": {},
          "output_type": "execute_result"
        }
      ],
      "source": [
        "# Training Set X\n",
        "x_training_df = pd.DataFrame(data['Xt'], columns=[\"Livebait\", \"Camper\", \"Person\", \"Child\"])\n",
        "x_training_df.insert(0, 'Intercept', np.ones(200))\n",
        "x_training_df.describe()"
      ]
    },
    {
      "cell_type": "code",
      "execution_count": 6,
      "metadata": {},
      "outputs": [
        {
          "data": {
            "text/html": [
              "<div>\n",
              "<style scoped>\n",
              "    .dataframe tbody tr th:only-of-type {\n",
              "        vertical-align: middle;\n",
              "    }\n",
              "\n",
              "    .dataframe tbody tr th {\n",
              "        vertical-align: top;\n",
              "    }\n",
              "\n",
              "    .dataframe thead th {\n",
              "        text-align: right;\n",
              "    }\n",
              "</style>\n",
              "<table border=\"1\" class=\"dataframe\">\n",
              "  <thead>\n",
              "    <tr style=\"text-align: right;\">\n",
              "      <th></th>\n",
              "      <th>Intercept</th>\n",
              "      <th>Livebait</th>\n",
              "      <th>Camper</th>\n",
              "      <th>Person</th>\n",
              "      <th>Child</th>\n",
              "    </tr>\n",
              "  </thead>\n",
              "  <tbody>\n",
              "    <tr>\n",
              "      <th>count</th>\n",
              "      <td>50.0</td>\n",
              "      <td>50.000000</td>\n",
              "      <td>50.000000</td>\n",
              "      <td>50.000000</td>\n",
              "      <td>50.000000</td>\n",
              "    </tr>\n",
              "    <tr>\n",
              "      <th>mean</th>\n",
              "      <td>1.0</td>\n",
              "      <td>0.900000</td>\n",
              "      <td>0.540000</td>\n",
              "      <td>2.480000</td>\n",
              "      <td>0.600000</td>\n",
              "    </tr>\n",
              "    <tr>\n",
              "      <th>std</th>\n",
              "      <td>0.0</td>\n",
              "      <td>0.303046</td>\n",
              "      <td>0.503457</td>\n",
              "      <td>1.034901</td>\n",
              "      <td>0.670059</td>\n",
              "    </tr>\n",
              "    <tr>\n",
              "      <th>min</th>\n",
              "      <td>1.0</td>\n",
              "      <td>0.000000</td>\n",
              "      <td>0.000000</td>\n",
              "      <td>1.000000</td>\n",
              "      <td>0.000000</td>\n",
              "    </tr>\n",
              "    <tr>\n",
              "      <th>25%</th>\n",
              "      <td>1.0</td>\n",
              "      <td>1.000000</td>\n",
              "      <td>0.000000</td>\n",
              "      <td>2.000000</td>\n",
              "      <td>0.000000</td>\n",
              "    </tr>\n",
              "    <tr>\n",
              "      <th>50%</th>\n",
              "      <td>1.0</td>\n",
              "      <td>1.000000</td>\n",
              "      <td>1.000000</td>\n",
              "      <td>2.000000</td>\n",
              "      <td>0.500000</td>\n",
              "    </tr>\n",
              "    <tr>\n",
              "      <th>75%</th>\n",
              "      <td>1.0</td>\n",
              "      <td>1.000000</td>\n",
              "      <td>1.000000</td>\n",
              "      <td>3.000000</td>\n",
              "      <td>1.000000</td>\n",
              "    </tr>\n",
              "    <tr>\n",
              "      <th>max</th>\n",
              "      <td>1.0</td>\n",
              "      <td>1.000000</td>\n",
              "      <td>1.000000</td>\n",
              "      <td>4.000000</td>\n",
              "      <td>2.000000</td>\n",
              "    </tr>\n",
              "  </tbody>\n",
              "</table>\n",
              "</div>"
            ],
            "text/plain": [
              "       Intercept   Livebait     Camper     Person      Child\n",
              "count       50.0  50.000000  50.000000  50.000000  50.000000\n",
              "mean         1.0   0.900000   0.540000   2.480000   0.600000\n",
              "std          0.0   0.303046   0.503457   1.034901   0.670059\n",
              "min          1.0   0.000000   0.000000   1.000000   0.000000\n",
              "25%          1.0   1.000000   0.000000   2.000000   0.000000\n",
              "50%          1.0   1.000000   1.000000   2.000000   0.500000\n",
              "75%          1.0   1.000000   1.000000   3.000000   1.000000\n",
              "max          1.0   1.000000   1.000000   4.000000   2.000000"
            ]
          },
          "execution_count": 6,
          "metadata": {},
          "output_type": "execute_result"
        }
      ],
      "source": [
        "# Test Set X\n",
        "x_test_df = pd.DataFrame(data['Xte'], columns=[\"Livebait\", \"Camper\", \"Person\", \"Child\"])\n",
        "x_test_df.insert(0, 'Intercept', np.ones(50)) # w*x + b --> b ist das intercept --> 1 damit man ihn gleich behandelt wie die anderen features\n",
        "x_test_df.describe()"
      ]
    },
    {
      "cell_type": "code",
      "execution_count": 7,
      "metadata": {},
      "outputs": [
        {
          "data": {
            "text/html": [
              "<div>\n",
              "<style scoped>\n",
              "    .dataframe tbody tr th:only-of-type {\n",
              "        vertical-align: middle;\n",
              "    }\n",
              "\n",
              "    .dataframe tbody tr th {\n",
              "        vertical-align: top;\n",
              "    }\n",
              "\n",
              "    .dataframe thead th {\n",
              "        text-align: right;\n",
              "    }\n",
              "</style>\n",
              "<table border=\"1\" class=\"dataframe\">\n",
              "  <thead>\n",
              "    <tr style=\"text-align: right;\">\n",
              "      <th></th>\n",
              "      <th>Count</th>\n",
              "    </tr>\n",
              "  </thead>\n",
              "  <tbody>\n",
              "    <tr>\n",
              "      <th>count</th>\n",
              "      <td>200.000000</td>\n",
              "    </tr>\n",
              "    <tr>\n",
              "      <th>mean</th>\n",
              "      <td>3.355000</td>\n",
              "    </tr>\n",
              "    <tr>\n",
              "      <th>std</th>\n",
              "      <td>11.984872</td>\n",
              "    </tr>\n",
              "    <tr>\n",
              "      <th>min</th>\n",
              "      <td>0.000000</td>\n",
              "    </tr>\n",
              "    <tr>\n",
              "      <th>25%</th>\n",
              "      <td>0.000000</td>\n",
              "    </tr>\n",
              "    <tr>\n",
              "      <th>50%</th>\n",
              "      <td>0.000000</td>\n",
              "    </tr>\n",
              "    <tr>\n",
              "      <th>75%</th>\n",
              "      <td>2.000000</td>\n",
              "    </tr>\n",
              "    <tr>\n",
              "      <th>max</th>\n",
              "      <td>149.000000</td>\n",
              "    </tr>\n",
              "  </tbody>\n",
              "</table>\n",
              "</div>"
            ],
            "text/plain": [
              "            Count\n",
              "count  200.000000\n",
              "mean     3.355000\n",
              "std     11.984872\n",
              "min      0.000000\n",
              "25%      0.000000\n",
              "50%      0.000000\n",
              "75%      2.000000\n",
              "max    149.000000"
            ]
          },
          "execution_count": 7,
          "metadata": {},
          "output_type": "execute_result"
        }
      ],
      "source": [
        "# Training Set Y\n",
        "y_training_df = pd.DataFrame(data['yt'], columns=[\"Count\"])\n",
        "y_training_df.describe()"
      ]
    },
    {
      "cell_type": "code",
      "execution_count": 8,
      "metadata": {},
      "outputs": [
        {
          "data": {
            "text/html": [
              "<div>\n",
              "<style scoped>\n",
              "    .dataframe tbody tr th:only-of-type {\n",
              "        vertical-align: middle;\n",
              "    }\n",
              "\n",
              "    .dataframe tbody tr th {\n",
              "        vertical-align: top;\n",
              "    }\n",
              "\n",
              "    .dataframe thead th {\n",
              "        text-align: right;\n",
              "    }\n",
              "</style>\n",
              "<table border=\"1\" class=\"dataframe\">\n",
              "  <thead>\n",
              "    <tr style=\"text-align: right;\">\n",
              "      <th></th>\n",
              "      <th>Count</th>\n",
              "    </tr>\n",
              "  </thead>\n",
              "  <tbody>\n",
              "    <tr>\n",
              "      <th>count</th>\n",
              "      <td>50.000000</td>\n",
              "    </tr>\n",
              "    <tr>\n",
              "      <th>mean</th>\n",
              "      <td>3.060000</td>\n",
              "    </tr>\n",
              "    <tr>\n",
              "      <th>std</th>\n",
              "      <td>10.222843</td>\n",
              "    </tr>\n",
              "    <tr>\n",
              "      <th>min</th>\n",
              "      <td>0.000000</td>\n",
              "    </tr>\n",
              "    <tr>\n",
              "      <th>25%</th>\n",
              "      <td>0.000000</td>\n",
              "    </tr>\n",
              "    <tr>\n",
              "      <th>50%</th>\n",
              "      <td>0.000000</td>\n",
              "    </tr>\n",
              "    <tr>\n",
              "      <th>75%</th>\n",
              "      <td>1.000000</td>\n",
              "    </tr>\n",
              "    <tr>\n",
              "      <th>max</th>\n",
              "      <td>65.000000</td>\n",
              "    </tr>\n",
              "  </tbody>\n",
              "</table>\n",
              "</div>"
            ],
            "text/plain": [
              "           Count\n",
              "count  50.000000\n",
              "mean    3.060000\n",
              "std    10.222843\n",
              "min     0.000000\n",
              "25%     0.000000\n",
              "50%     0.000000\n",
              "75%     1.000000\n",
              "max    65.000000"
            ]
          },
          "execution_count": 8,
          "metadata": {},
          "output_type": "execute_result"
        }
      ],
      "source": [
        "# Test Set Y\n",
        "y_test_df = pd.DataFrame(data['yte'], columns=[\"Count\"])\n",
        "y_test_df.describe()"
      ]
    },
    {
      "cell_type": "code",
      "execution_count": 9,
      "metadata": {},
      "outputs": [],
      "source": [
        "x_training_np = x_training_df.to_numpy()\n",
        "y_training_np = y_training_df.to_numpy()\n",
        "x_test_np = x_test_df.to_numpy()\n",
        "y_test_np = y_test_df.to_numpy()"
      ]
    },
    {
      "cell_type": "markdown",
      "metadata": {},
      "source": [
        "## Aufgaben"
      ]
    },
    {
      "cell_type": "markdown",
      "metadata": {},
      "source": [
        "### Aufgabe a)"
      ]
    },
    {
      "cell_type": "code",
      "execution_count": 10,
      "metadata": {},
      "outputs": [
        {
          "data": {
            "text/plain": [
              "array([[-8.49222821],\n",
              "       [ 2.4822138 ],\n",
              "       [ 2.95430727],\n",
              "       [ 4.64953914],\n",
              "       [-5.47160051]])"
            ]
          },
          "execution_count": 10,
          "metadata": {},
          "output_type": "execute_result"
        }
      ],
      "source": [
        "# See: https://github.com/ioskn/mldl_htwg/blob/master/linear_methods/LinearRegression.ipynb\n",
        "XTX = np.matmul(x_training_np.T,x_training_np)\n",
        "XTXI = np.linalg.inv(XTX)\n",
        "XTXIXT = np.matmul(XTXI, x_training_np.T)\n",
        "linear_reg_weights = np.matmul(XTXIXT, y_training_np)\n",
        "linear_reg_weights"
      ]
    },
    {
      "cell_type": "code",
      "execution_count": 11,
      "metadata": {},
      "outputs": [
        {
          "data": {
            "text/plain": [
              "117.26947782687198"
            ]
          },
          "execution_count": 11,
          "metadata": {},
          "output_type": "execute_result"
        }
      ],
      "source": [
        "diffObservedYAndPredictedYTraining = np.matmul(x_training_np, linear_reg_weights).flatten() - y_training_np.flatten()\n",
        "mse_training = np.mean(np.square(diffObservedYAndPredictedYTraining))\n",
        "mse_training"
      ]
    },
    {
      "cell_type": "markdown",
      "metadata": {},
      "source": [
        "### Aufgabe b)"
      ]
    },
    {
      "cell_type": "code",
      "execution_count": 12,
      "metadata": {},
      "outputs": [
        {
          "data": {
            "text/plain": [
              "array([[-8.49222821,  2.4822138 ,  2.95430727,  4.64953914, -5.47160051]])"
            ]
          },
          "execution_count": 12,
          "metadata": {},
          "output_type": "execute_result"
        }
      ],
      "source": [
        "# See: https://github.com/ioskn/mldl_htwg/blob/master/linear_methods/LinearRegression.ipynb\n",
        "from sklearn.linear_model import LinearRegression\n",
        "model_skl = LinearRegression(fit_intercept=False) #We have an extended X\n",
        "model_skl.fit(x_training_np, y_training_np)\n",
        "model_skl.coef_"
      ]
    },
    {
      "cell_type": "markdown",
      "metadata": {},
      "source": [
        "### Aufgabe c)"
      ]
    },
    {
      "cell_type": "markdown",
      "metadata": {},
      "source": [
        "Bestimmen des **Root Mean Square Errors (RMSE)** für das Testset:"
      ]
    },
    {
      "cell_type": "code",
      "execution_count": 13,
      "metadata": {},
      "outputs": [
        {
          "data": {
            "text/plain": [
              "8.588126386734231"
            ]
          },
          "execution_count": 13,
          "metadata": {},
          "output_type": "execute_result"
        }
      ],
      "source": [
        "diffObservedYAndPredictedYTest = np.matmul(x_test_np, linear_reg_weights).flatten() - y_test_np.flatten()\n",
        "mse_test = np.mean(np.square(diffObservedYAndPredictedYTest))\n",
        "rmse_test = np.sqrt(mse_test)\n",
        "rmse_test"
      ]
    },
    {
      "cell_type": "markdown",
      "metadata": {},
      "source": [
        "Bestimmen der **durchschnittlichen negativen Log-Likelihood (NLL)** für das Testset:"
      ]
    },
    {
      "cell_type": "code",
      "execution_count": 14,
      "metadata": {},
      "outputs": [
        {
          "data": {
            "text/plain": [
              "3.5674472292366746"
            ]
          },
          "execution_count": 14,
          "metadata": {},
          "output_type": "execute_result"
        }
      ],
      "source": [
        "import scipy.stats as stats\n",
        "\n",
        "mean = (diffObservedYAndPredictedYTest).mean() # Erwartungswert\n",
        "scale = np.std(diffObservedYAndPredictedYTest) # Standardabweichung\n",
        "gaussian = stats.norm(loc=mean, scale=scale).pdf(diffObservedYAndPredictedYTest)\n",
        "nll = -np.log(gaussian)\n",
        "nll.mean()"
      ]
    },
    {
      "cell_type": "markdown",
      "metadata": {},
      "source": [
        "### Aufgabe d)"
      ]
    },
    {
      "cell_type": "code",
      "execution_count": 15,
      "metadata": {},
      "outputs": [
        {
          "data": {
            "image/png": "[encoded data removed]",
            "text/plain": [
              "<Figure size 640x480 with 1 Axes>"
            ]
          },
          "metadata": {},
          "output_type": "display_data"
        }
      ],
      "source": [
        "from scipy.stats import linregress\n",
        "\n",
        "y_pred = np.matmul(x_test_np, linear_reg_weights).flatten()\n",
        "plt.scatter(y_pred, y_test_np.flatten())\n",
        "\n",
        "reg = linregress(y_pred, y_pred)\n",
        "plt.axline(xy1=(0, reg.intercept), slope=reg.slope, color=\"green\")\n",
        "\n",
        "reg = linregress(y_pred, y_pred+1.96*rmse_test)\n",
        "plt.axline(xy1=(0, reg.intercept), slope=reg.slope, linestyle=\"--\", color=\"red\")\n",
        "\n",
        "reg = linregress(y_pred, y_pred-1.96*rmse_test)\n",
        "plt.axline(xy1=(0, reg.intercept), slope=reg.slope, linestyle=\"--\", color=\"red\")\n",
        "\n",
        "plt.xlabel('Predicted number of fish caught')\n",
        "plt.ylabel('Observed number of fish caught')\n",
        "# plt.xlim(-5, 12.5)\n",
        "# plt.ylim(-2, 40)\n",
        "plt.show()"
      ]
    },
    {
      "cell_type": "markdown",
      "metadata": {},
      "source": [
        "### Aufgabe e)"
      ]
    },
    {
      "cell_type": "code",
      "execution_count": 16,
      "metadata": {},
      "outputs": [],
      "source": [
        "# See: https://github.com/ioskn/mldl_htwg/blob/master/uebungen/Fish_Poisson_Keras.ipynb\n",
        "def negative_log_likelihood(y_np, x_np, weights):\n",
        "    mu = np.exp(np.matmul(x_np, weights))\n",
        "    ret = np.zeros_like(mu)\n",
        "    for i in range(ret.shape[0]):\n",
        "        ret[i] = mu[i] - y_np[i]*np.log(mu[i]) + np.log(1.0*np.math.factorial(int(y_np[i])))\n",
        "    return np.mean(ret)\n",
        "    \n",
        "def gradient_descent_nll(y_np, x_np, weights):\n",
        "    mu = np.exp(np.matmul(x_np, weights))\n",
        "    theta = np.zeros_like(x_np)\n",
        "    for i in range(x_np.shape[0]):\n",
        "        mux = x_np[i] * mu[i]\n",
        "        theta[i] = -mux + y_np[i] * x_np[i]\n",
        "    return np.mean(theta, axis=0)"
      ]
    },
    {
      "cell_type": "markdown",
      "metadata": {},
      "source": [
        "Testen der Funktion zur Berechnung des **durchschnittlichen negativen Log-Likelihood (NLL)** für das Trainingsset mit den Gewichten `(1,1,1,1,1)`:"
      ]
    },
    {
      "cell_type": "code",
      "execution_count": 17,
      "metadata": {},
      "outputs": [
        {
          "data": {
            "text/plain": [
              "1507.985652179718"
            ]
          },
          "execution_count": 17,
          "metadata": {},
          "output_type": "execute_result"
        }
      ],
      "source": [
        "weights = np.ones(5)\n",
        "\n",
        "nll = negative_log_likelihood(y_training_np, x_training_np, weights)\n",
        "nll"
      ]
    },
    {
      "cell_type": "markdown",
      "metadata": {},
      "source": [
        "Testen der Funktion zur Berechnung der **Gradienten** für das Trainingsset mit den Gewichten `(1,1,1,1,1)`:"
      ]
    },
    {
      "cell_type": "code",
      "execution_count": 18,
      "metadata": {},
      "outputs": [
        {
          "data": {
            "text/plain": [
              "array([1518.61, 1403.99, 1171.02, 5701.91, 3258.7 ])"
            ]
          },
          "execution_count": 18,
          "metadata": {},
          "output_type": "execute_result"
        }
      ],
      "source": [
        "weights = np.ones(5)\n",
        "\n",
        "np.abs(np.round(gradient_descent_nll(y_training_np, x_training_np, weights), 2))"
      ]
    },
    {
      "cell_type": "code",
      "execution_count": 19,
      "metadata": {},
      "outputs": [
        {
          "data": {
            "text/plain": [
              "array([-1.08852056,  0.2597268 ,  0.54509109,  0.85448041, -1.65101241])"
            ]
          },
          "execution_count": 19,
          "metadata": {},
          "output_type": "execute_result"
        }
      ],
      "source": [
        "hist = []\n",
        "epochs = 5000\n",
        "learning_rate = 0.001\n",
        "\n",
        "weights = np.ones(5)\n",
        "\n",
        "for i in range(epochs):\n",
        "    mean = negative_log_likelihood(y_training_np, x_training_np, weights)\n",
        "    hist.append(mean)\n",
        "    weights = weights + learning_rate * gradient_descent_nll(y_training_np, x_training_np, weights)\n",
        "\n",
        "weights"
      ]
    },
    {
      "cell_type": "code",
      "execution_count": 20,
      "metadata": {},
      "outputs": [
        {
          "data": {
            "image/png": "[encoded data removed]",
            "text/plain": [
              "<Figure size 640x480 with 1 Axes>"
            ]
          },
          "metadata": {},
          "output_type": "display_data"
        }
      ],
      "source": [
        "plt.plot(hist)\n",
        "plt.grid()\n",
        "plt.ylim(0, 70)\n",
        "plt.xlim(0, 2500)\n",
        "plt.xlabel('Epochen')\n",
        "plt.ylabel('Durchschnittlicher NLL')\n",
        "plt.show()"
      ]
    },
    {
      "cell_type": "markdown",
      "metadata": {},
      "source": [
        "### Aufgabe f)"
      ]
    },
    {
      "cell_type": "code",
      "execution_count": 21,
      "metadata": {},
      "outputs": [
        {
          "name": "stdout",
          "output_type": "stream",
          "text": [
            "2,5%-Quantile: [ 0.  0.  0.  0.  0.  0.  0.  0.  0.  0.  0.  0.  0.  0.  0.  0.  0.  0.\n",
            "  0.  0.  0.  0.  0.  0.  0.  0.  0.  0.  0.  0.  0.  0.  0.  0.  0.  1.\n",
            "  1.  1.  1.  1.  1.  1.  1.  1.  1.  4.  4.  5. 14. 14.]\n",
            "97,5%-Quantile: [ 1.  1.  2.  2.  2.  2.  2.  2.  2.  3.  3.  3.  3.  3.  3.  3.  3.  3.\n",
            "  3.  3.  3.  4.  4.  5.  5.  5.  5.  5.  5.  6.  6.  6.  6.  6.  7.  9.\n",
            "  9.  9.  9.  9.  9.  9.  9.  9.  9. 16. 16. 17. 33. 33.]\n"
          ]
        }
      ],
      "source": [
        "from scipy.stats import linregress\n",
        "\n",
        "y_pred = np.exp(np.matmul(x_test_np, weights))\n",
        "sort_idx = np.argsort(y_pred)\n",
        "y_pred_sorted = y_pred[sort_idx]\n",
        "perc_025 = stats.poisson(y_pred_sorted).ppf(.025)\n",
        "perc_975 = stats.poisson(y_pred_sorted).ppf(.975)\n",
        "print(\"2,5%-Quantile:\", perc_025)\n",
        "print(\"97,5%-Quantile:\", perc_975)"
      ]
    },
    {
      "cell_type": "code",
      "execution_count": 22,
      "metadata": {},
      "outputs": [
        {
          "data": {
            "image/png": "[encoded data removed]",
            "text/plain": [
              "<Figure size 640x480 with 1 Axes>"
            ]
          },
          "metadata": {},
          "output_type": "display_data"
        }
      ],
      "source": [
        "plt.scatter(y_pred, y_test_np.flatten())\n",
        "\n",
        "reg = linregress(y_pred_sorted, y_pred_sorted)\n",
        "plt.axline(xy1=(0, reg.intercept), slope=reg.slope, color=\"green\")\n",
        "\n",
        "plt.plot(y_pred_sorted, perc_025, linestyle='dashed', c=\"red\")\n",
        "plt.plot(y_pred_sorted, perc_975, linestyle='dashed', c=\"red\")\n",
        "\n",
        "plt.grid()\n",
        "# plt.xlim(0, 15)\n",
        "# plt.ylim(-1, 35)\n",
        "\n",
        "plt.xlabel('Predicted number of fish caught')\n",
        "plt.ylabel('Observed number of fish caught')\n",
        "plt.show()"
      ]
    }
  ],
  "metadata": {
    "colab": {
      "include_colab_link": true,
      "name": "Explorative Analyse.ipynb",
      "provenance": []
    },
    "kernelspec": {
      "display_name": "Python 3.10.4 64-bit",
      "language": "python",
      "name": "python3"
    },
    "language_info": {
      "codemirror_mode": {
        "name": "ipython",
        "version": 3
      },
      "file_extension": ".py",
      "mimetype": "text/x-python",
      "name": "python",
      "nbconvert_exporter": "python",
      "pygments_lexer": "ipython3",
      "version": "3.10.8"
    },
    "vscode": {
      "interpreter": {
        "hash": "949777d72b0d2535278d3dc13498b2535136f6dfe0678499012e853ee9abcab1"
      }
    }
  },
  "nbformat": 4,
  "nbformat_minor": 0
}
